{
  "nbformat": 4,
  "nbformat_minor": 0,
  "metadata": {
    "colab": {
      "provenance": []
    },
    "kernelspec": {
      "name": "python3",
      "display_name": "Python 3"
    },
    "language_info": {
      "name": "python"
    }
  },
  "cells": [
    {
      "cell_type": "code",
      "execution_count": 5,
      "metadata": {
        "id": "vaEipud8n9mx"
      },
      "outputs": [],
      "source": [
        "import tensorflow as tf\n",
        "from tensorflow import keras\n",
        "import numpy as np\n",
        "import pandas as pd\n",
        "import matplotlib.pyplot as plt\n",
        "import seaborn as sns\n",
        "from tensorflow.keras import datasets, layers, models "
      ]
    },
    {
      "cell_type": "markdown",
      "source": [
        "- konvolucija = \n",
        "- computer vision (tradicional) = definisanje matrica, tzv. filteri, da kada pomnozimo sliku sa filterom dobijemo neku promene slike\n",
        "- filteri za ivice \n",
        "\n",
        "- modern computer vision = slika (ulaz u neuronsku mrezu) i postoji neki kernel (filter) = operacija konvolucije matrica - nije isto kao mnozenje matrica i vrsim skalarni proizvod tacka po tacka pa saberem; setam kernel matricu red po red, i dobijem matricu nesto manjeg formata;\n",
        "nad svakim elementom rezultujuce matrice primenim **funkciju aktivacije**\n",
        " \n",
        " modeluju nelinearne zavisnosti\n",
        " \n",
        " **uci se filter!!!** naucicemo optimalne kernele one koji rade sta treba tako da sve klasifikuje; **operacija ukrupnjavanja ili agregacije** = menjanje grupe piksela jednim pikselom **average pulling** = menjanje matricom prosekom; dobre rezultate daje **max polling**\n",
        "\n",
        "- konvulucija, pulling, konvulucija, polling, itd.."
      ],
      "metadata": {
        "id": "KXvIzCEloifX"
      }
    },
    {
      "cell_type": "code",
      "source": [
        "(train_images, train_labels), (test_images, test_labels) = datasets.cifar10.load_data()"
      ],
      "metadata": {
        "colab": {
          "base_uri": "https://localhost:8080/"
        },
        "id": "ZUBcF4iYoTLE",
        "outputId": "09fc169a-22f3-4242-fd2d-f6eba1b9ec00"
      },
      "execution_count": 8,
      "outputs": [
        {
          "output_type": "stream",
          "name": "stdout",
          "text": [
            "Downloading data from https://www.cs.toronto.edu/~kriz/cifar-10-python.tar.gz\n",
            "170498071/170498071 [==============================] - 9s 0us/step\n"
          ]
        }
      ]
    },
    {
      "cell_type": "code",
      "source": [
        "train_images.shape\n",
        "# 50000 slika, dimenzija 32x32x3"
      ],
      "metadata": {
        "colab": {
          "base_uri": "https://localhost:8080/"
        },
        "id": "N6l_nQ0CsMUA",
        "outputId": "48d72b63-2b8e-41bf-f85f-014222fd14b4"
      },
      "execution_count": 9,
      "outputs": [
        {
          "output_type": "execute_result",
          "data": {
            "text/plain": [
              "(50000, 32, 32, 3)"
            ]
          },
          "metadata": {},
          "execution_count": 9
        }
      ]
    },
    {
      "cell_type": "code",
      "source": [
        "class_names = ['airplane', 'automobile','bird', 'cat', 'deer', 'dog', 'frog', 'horse', 'ship', 'truck']"
      ],
      "metadata": {
        "id": "gQojLCs7sq6T"
      },
      "execution_count": 10,
      "outputs": []
    },
    {
      "cell_type": "code",
      "source": [
        "train_images.max()"
      ],
      "metadata": {
        "colab": {
          "base_uri": "https://localhost:8080/"
        },
        "id": "TLqOMN__tMnA",
        "outputId": "0d62aaa2-3311-4498-da58-694b1c3b75d9"
      },
      "execution_count": 11,
      "outputs": [
        {
          "output_type": "execute_result",
          "data": {
            "text/plain": [
              "255"
            ]
          },
          "metadata": {},
          "execution_count": 11
        }
      ]
    },
    {
      "cell_type": "code",
      "source": [
        "train_images.min()"
      ],
      "metadata": {
        "colab": {
          "base_uri": "https://localhost:8080/"
        },
        "id": "aRHCcjkTtSSe",
        "outputId": "44ecd8dc-9966-471c-907f-c87a8d4b9abb"
      },
      "execution_count": 12,
      "outputs": [
        {
          "output_type": "execute_result",
          "data": {
            "text/plain": [
              "0"
            ]
          },
          "metadata": {},
          "execution_count": 12
        }
      ]
    },
    {
      "cell_type": "markdown",
      "source": [
        "- dobro je da slike normalizujemo na [0,1], generalno podaci kada treba da idu u neuronsku mrezu\n"
      ],
      "metadata": {
        "id": "N5w-K7tLtUny"
      }
    },
    {
      "cell_type": "code",
      "source": [
        "train_images, test_images = train_images/255.0, test_images/255.0"
      ],
      "metadata": {
        "id": "M7Ka8tBJtd3V"
      },
      "execution_count": 13,
      "outputs": []
    },
    {
      "cell_type": "code",
      "source": [
        "train_images.max()"
      ],
      "metadata": {
        "colab": {
          "base_uri": "https://localhost:8080/"
        },
        "id": "iPxwDmXNto_z",
        "outputId": "a2bdce18-8865-4f12-85f0-5b2da81f3a84"
      },
      "execution_count": 14,
      "outputs": [
        {
          "output_type": "execute_result",
          "data": {
            "text/plain": [
              "1.0"
            ]
          },
          "metadata": {},
          "execution_count": 14
        }
      ]
    },
    {
      "cell_type": "code",
      "source": [
        "\n",
        "model = models.Sequential() # objekat u kojeg mogu da dodajem jedan po jedan sloj\n",
        "\n",
        "model.add(layers.Conv2D(32, (3, 3), activation='relu', input_shape=(32, 32, 3)))\n",
        "\n",
        "# model.add(layers.MaxPool2D((2, 2)))\n",
        "# model.add(layers.Conv2D(64, (3,3), activation='relu'))\n",
        "# model.add(layers.MaxPool2D((2, 2)))\n",
        "# model.add(layers.Conv2D(64, (3,3), activation='relu'))\n",
        "\n",
        "model.add(layers.MaxPooling2D((2, 2)))\n",
        "model.add(layers.Conv2D(64, (3, 3), activation='relu'))\n",
        "model.add(layers.MaxPooling2D((2, 2)))\n",
        "model.add(layers.Conv2D(64, (3, 3), activation='relu'))\n"
      ],
      "metadata": {
        "id": "RyvYfRaztsuw"
      },
      "execution_count": 20,
      "outputs": []
    },
    {
      "cell_type": "code",
      "source": [
        "model.summary()"
      ],
      "metadata": {
        "colab": {
          "base_uri": "https://localhost:8080/"
        },
        "id": "6TcXcC06xSEn",
        "outputId": "ae52d3d2-b68d-4af7-fece-9ea0529fa4dc"
      },
      "execution_count": 21,
      "outputs": [
        {
          "output_type": "stream",
          "name": "stdout",
          "text": [
            "Model: \"sequential_5\"\n",
            "_________________________________________________________________\n",
            " Layer (type)                Output Shape              Param #   \n",
            "=================================================================\n",
            " conv2d_3 (Conv2D)           (None, 30, 30, 32)        896       \n",
            "                                                                 \n",
            " max_pooling2d_2 (MaxPooling  (None, 15, 15, 32)       0         \n",
            " 2D)                                                             \n",
            "                                                                 \n",
            " conv2d_4 (Conv2D)           (None, 13, 13, 64)        18496     \n",
            "                                                                 \n",
            " max_pooling2d_3 (MaxPooling  (None, 6, 6, 64)         0         \n",
            " 2D)                                                             \n",
            "                                                                 \n",
            " conv2d_5 (Conv2D)           (None, 4, 4, 64)          36928     \n",
            "                                                                 \n",
            "=================================================================\n",
            "Total params: 56,320\n",
            "Trainable params: 56,320\n",
            "Non-trainable params: 0\n",
            "_________________________________________________________________\n"
          ]
        }
      ]
    },
    {
      "cell_type": "code",
      "source": [
        "model.add(layers.Flatten())\n",
        "model.add(layers.Dense(64, activation='relu'))\n",
        "model.add(layers.Dense(10, activation='softmax'))"
      ],
      "metadata": {
        "id": "J_kMu7jKxfMb"
      },
      "execution_count": 23,
      "outputs": []
    },
    {
      "cell_type": "code",
      "source": [
        "model.summary()"
      ],
      "metadata": {
        "colab": {
          "base_uri": "https://localhost:8080/"
        },
        "id": "Nd4F0G6sxyU_",
        "outputId": "1194bad1-c0bb-4bd4-912f-f157d9e794e1"
      },
      "execution_count": 24,
      "outputs": [
        {
          "output_type": "stream",
          "name": "stdout",
          "text": [
            "Model: \"sequential_5\"\n",
            "_________________________________________________________________\n",
            " Layer (type)                Output Shape              Param #   \n",
            "=================================================================\n",
            " conv2d_3 (Conv2D)           (None, 30, 30, 32)        896       \n",
            "                                                                 \n",
            " max_pooling2d_2 (MaxPooling  (None, 15, 15, 32)       0         \n",
            " 2D)                                                             \n",
            "                                                                 \n",
            " conv2d_4 (Conv2D)           (None, 13, 13, 64)        18496     \n",
            "                                                                 \n",
            " max_pooling2d_3 (MaxPooling  (None, 6, 6, 64)         0         \n",
            " 2D)                                                             \n",
            "                                                                 \n",
            " conv2d_5 (Conv2D)           (None, 4, 4, 64)          36928     \n",
            "                                                                 \n",
            " flatten (Flatten)           (None, 1024)              0         \n",
            "                                                                 \n",
            " flatten_1 (Flatten)         (None, 1024)              0         \n",
            "                                                                 \n",
            " dense (Dense)               (None, 64)                65600     \n",
            "                                                                 \n",
            " dense_1 (Dense)             (None, 10)                650       \n",
            "                                                                 \n",
            "=================================================================\n",
            "Total params: 122,570\n",
            "Trainable params: 122,570\n",
            "Non-trainable params: 0\n",
            "_________________________________________________________________\n"
          ]
        }
      ]
    },
    {
      "cell_type": "code",
      "source": [
        "epoches = 10\n",
        "batch_size = 64 # u svakoj epohi se gradijent racuna na osnovu podskupa\n",
        "num_classes = 10\n",
        "\n",
        "train_label_cat = tf.keras.utils.to_categorical(train_labels, num_classes)\n",
        "test_label_cat = tf.keras.utils.to_categorical(test_labels, num_classes)\n",
        "\n",
        "model.compile(optimizer='adam', loss=tf.keras.losses.CategoricalCrossentropy(), metrics=['accuracy'])\n",
        "\n",
        "history = model.fit(train_images, train_label_cat, epochs=epoches, batch_size=batch_size, validation_data=(test_images, test_label_cat))"
      ],
      "metadata": {
        "colab": {
          "base_uri": "https://localhost:8080/"
        },
        "id": "4qwcbLnZyisB",
        "outputId": "98fdc3c8-ffc5-4662-f95c-cf8562cba63d"
      },
      "execution_count": 33,
      "outputs": [
        {
          "output_type": "stream",
          "name": "stdout",
          "text": [
            "Epoch 1/10\n",
            "782/782 [==============================] - 79s 99ms/step - loss: 1.5486 - accuracy: 0.4323 - val_loss: 1.3730 - val_accuracy: 0.5070\n",
            "Epoch 2/10\n",
            "782/782 [==============================] - 77s 99ms/step - loss: 1.1803 - accuracy: 0.5845 - val_loss: 1.1317 - val_accuracy: 0.5992\n",
            "Epoch 3/10\n",
            "782/782 [==============================] - 75s 96ms/step - loss: 1.0249 - accuracy: 0.6402 - val_loss: 1.0224 - val_accuracy: 0.6446\n",
            "Epoch 4/10\n",
            "782/782 [==============================] - 77s 98ms/step - loss: 0.9239 - accuracy: 0.6761 - val_loss: 0.9572 - val_accuracy: 0.6640\n",
            "Epoch 5/10\n",
            "782/782 [==============================] - 79s 101ms/step - loss: 0.8546 - accuracy: 0.7021 - val_loss: 0.8968 - val_accuracy: 0.6949\n",
            "Epoch 6/10\n",
            "782/782 [==============================] - 79s 101ms/step - loss: 0.7950 - accuracy: 0.7227 - val_loss: 0.8924 - val_accuracy: 0.6936\n",
            "Epoch 7/10\n",
            "782/782 [==============================] - 77s 98ms/step - loss: 0.7460 - accuracy: 0.7401 - val_loss: 0.8543 - val_accuracy: 0.7095\n",
            "Epoch 8/10\n",
            "782/782 [==============================] - 77s 98ms/step - loss: 0.7066 - accuracy: 0.7531 - val_loss: 0.8957 - val_accuracy: 0.6971\n",
            "Epoch 9/10\n",
            "782/782 [==============================] - 113s 145ms/step - loss: 0.6675 - accuracy: 0.7676 - val_loss: 0.8335 - val_accuracy: 0.7158\n",
            "Epoch 10/10\n",
            "782/782 [==============================] - 93s 119ms/step - loss: 0.6284 - accuracy: 0.7798 - val_loss: 0.8856 - val_accuracy: 0.7023\n"
          ]
        }
      ]
    },
    {
      "cell_type": "code",
      "source": [
        "# gledamo kako se loss funkcija kretala\n",
        "\n",
        "plt.plot(history.history['accuracy'], label='accuracy')\n",
        "plt.plot(history.history['val_accuracy'], label='val accuracy')\n",
        "plt.xlabel('Epochs')\n",
        "plt.ylabel('Accuracy')\n",
        "plt.ylim([0.5, 1])\n",
        "plt.legend(loc='lower right')"
      ],
      "metadata": {
        "colab": {
          "base_uri": "https://localhost:8080/",
          "height": 472
        },
        "id": "5hSIBSbl3eoY",
        "outputId": "228beb33-739a-4926-d700-d78394099e07"
      },
      "execution_count": 37,
      "outputs": [
        {
          "output_type": "execute_result",
          "data": {
            "text/plain": [
              "<matplotlib.legend.Legend at 0x7ff723f25a20>"
            ]
          },
          "metadata": {},
          "execution_count": 37
        },
        {
          "output_type": "display_data",
          "data": {
            "text/plain": [
              "<Figure size 640x480 with 1 Axes>"
            ],
            "image/png": "[encoded data removed]"
          },
          "metadata": {}
        }
      ]
    },
    {
      "cell_type": "code",
      "source": [
        "# ovo dole je problem\n",
        "# jer smo trenirali na malom broju epoha\n",
        "# dodamo jos neki sloj ili povecamo broj epoha"
      ],
      "metadata": {
        "id": "QRNiSa765Be_"
      },
      "execution_count": null,
      "outputs": []
    },
    {
      "cell_type": "code",
      "source": [
        "test_loss, test_acc = model.evaluate(test_images, test_label_cat, verbose=2)"
      ],
      "metadata": {
        "colab": {
          "base_uri": "https://localhost:8080/"
        },
        "id": "MtIlBWbA4z_9",
        "outputId": "a526f058-86fc-424b-a099-c73fe3ff4057"
      },
      "execution_count": 38,
      "outputs": [
        {
          "output_type": "stream",
          "name": "stdout",
          "text": [
            "313/313 - 4s - loss: 0.8856 - accuracy: 0.7023 - 4s/epoch - 13ms/step\n"
          ]
        }
      ]
    },
    {
      "cell_type": "code",
      "source": [
        "! mkdir models"
      ],
      "metadata": {
        "id": "K4Us0R5m5UAz"
      },
      "execution_count": 40,
      "outputs": []
    },
    {
      "cell_type": "code",
      "source": [
        "! ls"
      ],
      "metadata": {
        "colab": {
          "base_uri": "https://localhost:8080/"
        },
        "id": "WxByU4n45tFR",
        "outputId": "cbbad58e-af1c-4e5c-fa6c-3e61541996ac"
      },
      "execution_count": 41,
      "outputs": [
        {
          "output_type": "stream",
          "name": "stdout",
          "text": [
            "models\tsample_data\n"
          ]
        }
      ]
    },
    {
      "cell_type": "code",
      "source": [
        "# cuvamo model kako mozemo da ga koristimo vise puta\n",
        "\n",
        "models_path = \"models/basic_network.h5\"\n",
        "model.save(models_path)"
      ],
      "metadata": {
        "id": "W-BoUz2_5ucn"
      },
      "execution_count": 42,
      "outputs": []
    },
    {
      "cell_type": "code",
      "source": [
        "! ls models/"
      ],
      "metadata": {
        "colab": {
          "base_uri": "https://localhost:8080/"
        },
        "id": "JNiAZ8vn5-El",
        "outputId": "780e2551-f9a6-4db2-84eb-d105afd01eff"
      },
      "execution_count": 43,
      "outputs": [
        {
          "output_type": "stream",
          "name": "stdout",
          "text": [
            "basic_network.h5\n"
          ]
        }
      ]
    },
    {
      "cell_type": "code",
      "source": [
        "backup_model = model\n",
        "model = None"
      ],
      "metadata": {
        "id": "rorbFTHe6AMr"
      },
      "execution_count": 44,
      "outputs": []
    },
    {
      "cell_type": "code",
      "source": [
        "print(model)"
      ],
      "metadata": {
        "colab": {
          "base_uri": "https://localhost:8080/"
        },
        "id": "EmylhBZr6GWj",
        "outputId": "2ef27f19-f73f-4a30-c9e0-416d211b8ddd"
      },
      "execution_count": 45,
      "outputs": [
        {
          "output_type": "stream",
          "name": "stdout",
          "text": [
            "None\n"
          ]
        }
      ]
    },
    {
      "cell_type": "code",
      "source": [
        "\n",
        "model = tf.keras.models.load_model(models_path)"
      ],
      "metadata": {
        "id": "BK-KWrMl6IBg"
      },
      "execution_count": 46,
      "outputs": []
    },
    {
      "cell_type": "code",
      "source": [
        "model.summary()"
      ],
      "metadata": {
        "colab": {
          "base_uri": "https://localhost:8080/"
        },
        "id": "6N7SsWzf6V8S",
        "outputId": "e088798a-5a08-4367-8175-e092d3212d14"
      },
      "execution_count": 47,
      "outputs": [
        {
          "output_type": "stream",
          "name": "stdout",
          "text": [
            "Model: \"sequential_5\"\n",
            "_________________________________________________________________\n",
            " Layer (type)                Output Shape              Param #   \n",
            "=================================================================\n",
            " conv2d_3 (Conv2D)           (None, 30, 30, 32)        896       \n",
            "                                                                 \n",
            " max_pooling2d_2 (MaxPooling  (None, 15, 15, 32)       0         \n",
            " 2D)                                                             \n",
            "                                                                 \n",
            " conv2d_4 (Conv2D)           (None, 13, 13, 64)        18496     \n",
            "                                                                 \n",
            " max_pooling2d_3 (MaxPooling  (None, 6, 6, 64)         0         \n",
            " 2D)                                                             \n",
            "                                                                 \n",
            " conv2d_5 (Conv2D)           (None, 4, 4, 64)          36928     \n",
            "                                                                 \n",
            " flatten (Flatten)           (None, 1024)              0         \n",
            "                                                                 \n",
            " flatten_1 (Flatten)         (None, 1024)              0         \n",
            "                                                                 \n",
            " dense (Dense)               (None, 64)                65600     \n",
            "                                                                 \n",
            " dense_1 (Dense)             (None, 10)                650       \n",
            "                                                                 \n",
            "=================================================================\n",
            "Total params: 122,570\n",
            "Trainable params: 122,570\n",
            "Non-trainable params: 0\n",
            "_________________________________________________________________\n"
          ]
        }
      ]
    },
    {
      "cell_type": "code",
      "source": [],
      "metadata": {
        "id": "2m5iRuMf6Y6P"
      },
      "execution_count": null,
      "outputs": []
    }
  ]
}