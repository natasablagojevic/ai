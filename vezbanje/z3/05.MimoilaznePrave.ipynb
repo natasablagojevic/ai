{
 "cells": [
  {
   "cell_type": "code",
   "execution_count": 1,
   "metadata": {},
   "outputs": [],
   "source": [
    "from z3 import *"
   ]
  },
  {
   "cell_type": "code",
   "execution_count": 2,
   "metadata": {},
   "outputs": [],
   "source": [
    "# Dve nemimoilazne prave se seku ili su paralelne\n",
    "# Prave koje se seku leze u istoj ravni\n",
    "# Prave koje su paralelne leze u istoj ravni\n",
    "\n",
    "# Konjuktura:\n",
    "# Dve nemimoilazne prave leze u istoj ravni"
   ]
  },
  {
   "cell_type": "code",
   "execution_count": 3,
   "metadata": {},
   "outputs": [
    {
     "name": "stdout",
     "output_type": "stream",
     "text": [
      "[r = [else -> False], nm = [else -> False]]\n"
     ]
    }
   ],
   "source": [
    "# (P, P) -> B\n",
    "\n",
    "B = BoolSort()\n",
    "P = DeclareSort('Prave')\n",
    "\n",
    "nm = Function('nm', P, P, B)\n",
    "s = Function('s', P, P, B)\n",
    "p = Function('p', P, P, B)\n",
    "r = Function('r', P, P, B)\n",
    "\n",
    "solver = Solver()\n",
    "\n",
    "x, y = Consts('x y', P)\n",
    "\n",
    "# damo skup aksioma\n",
    "# i konjukturu\n",
    "\n",
    "axiom = [\n",
    "    ForAll([x, y], Implies(nm(x, y), Or(s(x,y), p(x, y)))),\n",
    "    ForAll([x, y], Implies(s(x, y), r(x, y))),\n",
    "    ForAll([x, y], Implies(p(x, y), r(x, y)))\n",
    "]\n",
    "\n",
    "conjucture = ForAll([x, y], Implies(nm(x, y), r(x, y)))\n",
    "\n",
    "solver.add(conjucture)\n",
    "\n",
    "solver.check(axiom)\n",
    "\n",
    "if solver.check() == sat:\n",
    "    print(solver.model())"
   ]
  }
 ],
 "metadata": {
  "kernelspec": {
   "display_name": "base",
   "language": "python",
   "name": "python3"
  },
  "language_info": {
   "codemirror_mode": {
    "name": "ipython",
    "version": 3
   },
   "file_extension": ".py",
   "mimetype": "text/x-python",
   "name": "python",
   "nbconvert_exporter": "python",
   "pygments_lexer": "ipython3",
   "version": "3.9.13"
  },
  "orig_nbformat": 4
 },
 "nbformat": 4,
 "nbformat_minor": 2
}
