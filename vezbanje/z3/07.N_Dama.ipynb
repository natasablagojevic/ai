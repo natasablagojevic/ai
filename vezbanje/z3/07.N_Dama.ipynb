{
 "cells": [
  {
   "cell_type": "code",
   "execution_count": 1,
   "metadata": {},
   "outputs": [],
   "source": [
    "from z3 import *"
   ]
  },
  {
   "cell_type": "code",
   "execution_count": 5,
   "metadata": {},
   "outputs": [
    {
     "name": "stdout",
     "output_type": "stream",
     "text": [
      "[Q_3 = 8,\n",
      " Q_1 = 4,\n",
      " Q_7 = 5,\n",
      " Q_8 = 7,\n",
      " Q_5 = 1,\n",
      " Q_4 = 6,\n",
      " Q_2 = 2,\n",
      " Q_6 = 3]\n"
     ]
    }
   ],
   "source": [
    "Q = [Int('Q_%i' % (i+1)) for i in range(8)]\n",
    "\n",
    "val_c = [And(1 <= Q[i], Q[i] <= 8) for i in range(8)]\n",
    "col_c = [Distinct(Q)]\n",
    "diag_c = [\n",
    "    If(i == j, True, And(Q[i] - Q[j] != i-j, Q[i] - Q[j] != j - i))\n",
    "    for i in range(8) for j in range(8)\n",
    "]\n",
    "\n",
    "solve(val_c + col_c + diag_c)\n"
   ]
  }
 ],
 "metadata": {
  "kernelspec": {
   "display_name": "base",
   "language": "python",
   "name": "python3"
  },
  "language_info": {
   "codemirror_mode": {
    "name": "ipython",
    "version": 3
   },
   "file_extension": ".py",
   "mimetype": "text/x-python",
   "name": "python",
   "nbconvert_exporter": "python",
   "pygments_lexer": "ipython3",
   "version": "3.9.13"
  },
  "orig_nbformat": 4
 },
 "nbformat": 4,
 "nbformat_minor": 2
}
