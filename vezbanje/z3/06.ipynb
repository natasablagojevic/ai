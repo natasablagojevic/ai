{
 "cells": [
  {
   "cell_type": "code",
   "execution_count": 1,
   "metadata": {},
   "outputs": [],
   "source": [
    "from z3 import *"
   ]
  },
  {
   "cell_type": "code",
   "execution_count": 2,
   "metadata": {},
   "outputs": [],
   "source": [
    "# Svaka dva brata imaju zajednickog roditelja. \n",
    "# Roditelj je stariji od deteta. \n",
    "# Postoje braca. \n",
    "# Ni jedna osoba nije starija od druge. \n"
   ]
  },
  {
   "cell_type": "code",
   "execution_count": 3,
   "metadata": {},
   "outputs": [
    {
     "name": "stdout",
     "output_type": "stream",
     "text": [
      "[stariji = [else -> False]]\n"
     ]
    }
   ],
   "source": [
    "B = BoolSort()\n",
    "O = DeclareSort('Osoba')\n",
    "\n",
    "b = Function('braca', O, O, B)\n",
    "r = Function('roditelj', O, O, B)\n",
    "s = Function('stariji', O, O, B)\n",
    "\n",
    "solver = Solver()\n",
    "\n",
    "x, y, z = Consts('x y z', O)\n",
    "\n",
    "axiom = [\n",
    "    ForAll([x, y], Exists([z], Implies(b(x, y), And(r(z, x), r(z, y))))),\n",
    "    ForAll([x, y], Implies(r(x, y), s(x, y))),\n",
    "    Exists([x, y], b(x, y)) \n",
    "]\n",
    "\n",
    "cl = ForAll([x, y], Not(s(x, y)))\n",
    "\n",
    "solver.add(cl)\n",
    "\n",
    "solver.check(axiom)\n",
    "\n",
    "if solver.check() == sat:\n",
    "    print(solver.model())"
   ]
  }
 ],
 "metadata": {
  "kernelspec": {
   "display_name": "base",
   "language": "python",
   "name": "python3"
  },
  "language_info": {
   "codemirror_mode": {
    "name": "ipython",
    "version": 3
   },
   "file_extension": ".py",
   "mimetype": "text/x-python",
   "name": "python",
   "nbconvert_exporter": "python",
   "pygments_lexer": "ipython3",
   "version": "3.9.13"
  },
  "orig_nbformat": 4
 },
 "nbformat": 4,
 "nbformat_minor": 2
}
