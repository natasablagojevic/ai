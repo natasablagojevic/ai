{
 "cells": [
  {
   "cell_type": "code",
   "execution_count": 1,
   "metadata": {},
   "outputs": [],
   "source": [
    "from z3 import *"
   ]
  },
  {
   "cell_type": "code",
   "execution_count": 2,
   "metadata": {},
   "outputs": [],
   "source": [
    "# SMT-LIB2 Sorts, Bool, Int, Real BitVec,\n",
    "# Array, Index, String, Seq S"
   ]
  },
  {
   "cell_type": "code",
   "execution_count": 3,
   "metadata": {},
   "outputs": [
    {
     "name": "stdout",
     "output_type": "stream",
     "text": [
      "[a = False, f = [else -> 0], g = [else -> True]]\n"
     ]
    }
   ],
   "source": [
    "# Defnisanje novih tipova:\n",
    "# DeclareSort('S')\n",
    "\n",
    "B = BoolSort()\n",
    "Z = IntSort()\n",
    "\n",
    "f = Function('f', B, Z)\n",
    "g = Function('g', Z, B)\n",
    "\n",
    "a = Bool('a')\n",
    "\n",
    "solve(g(1+f(a)))"
   ]
  }
 ],
 "metadata": {
  "kernelspec": {
   "display_name": "base",
   "language": "python",
   "name": "python3"
  },
  "language_info": {
   "codemirror_mode": {
    "name": "ipython",
    "version": 3
   },
   "file_extension": ".py",
   "mimetype": "text/x-python",
   "name": "python",
   "nbconvert_exporter": "python",
   "pygments_lexer": "ipython3",
   "version": "3.9.13"
  },
  "orig_nbformat": 4
 },
 "nbformat": 4,
 "nbformat_minor": 2
}
