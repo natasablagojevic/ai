{
 "cells": [
  {
   "cell_type": "code",
   "execution_count": 1,
   "metadata": {},
   "outputs": [],
   "source": [
    "from z3 import *"
   ]
  },
  {
   "attachments": {},
   "cell_type": "markdown",
   "metadata": {},
   "source": [
    "Bool, Int, Real"
   ]
  },
  {
   "cell_type": "code",
   "execution_count": 3,
   "metadata": {},
   "outputs": [
    {
     "name": "stdout",
     "output_type": "stream",
     "text": [
      "[A = True, D = True, B = False, C = False]\n"
     ]
    }
   ],
   "source": [
    "A, B, C, D = Bools('A B C D')\n",
    "solve(A == D, B == C, Not(And(A == B, B == C, C == D)))"
   ]
  },
  {
   "cell_type": "code",
   "execution_count": 5,
   "metadata": {},
   "outputs": [
    {
     "name": "stdout",
     "output_type": "stream",
     "text": [
      "[A = True, D = True, B = False, C = False]\n"
     ]
    }
   ],
   "source": [
    "# istanca problema\n",
    "s = Solver()\n",
    "s.add(A == D, B == C, Not(And(A == B, B == C, C == D)))\n",
    "\n",
    "if s.check() == sat:\n",
    "    print(s.model())"
   ]
  },
  {
   "attachments": {},
   "cell_type": "markdown",
   "metadata": {},
   "source": [
    "### Stampanje svih modela ...\n"
   ]
  },
  {
   "cell_type": "code",
   "execution_count": 6,
   "metadata": {},
   "outputs": [
    {
     "name": "stdout",
     "output_type": "stream",
     "text": [
      "[y = 7/4, x = 1/2, z = 7/4]\n"
     ]
    }
   ],
   "source": [
    "x, y, z = Reals('x y z')\n",
    "\n",
    "s = Solver()\n",
    "\n",
    "s.add(\n",
    "    x + 5*y - 3*z == 4,\n",
    "    -x + y + z == 3,\n",
    "    2*x + y - z == 1\n",
    "    )\n",
    "\n",
    "if s.check() == sat:\n",
    "    print(s.model())"
   ]
  },
  {
   "cell_type": "code",
   "execution_count": 8,
   "metadata": {},
   "outputs": [
    {
     "name": "stdout",
     "output_type": "stream",
     "text": [
      "[y = 3, x = 1, z = -2]\n"
     ]
    }
   ],
   "source": [
    "x, y, z = Reals('x y z')\n",
    "s = Solver()\n",
    "\n",
    "s.add(\n",
    "    2*x - 3*y + z == -9,\n",
    "    5*x + y - 2*z == 12,\n",
    "    x - 2*y -3*z == 1\n",
    "    )\n",
    "\n",
    "if s.check() == sat:\n",
    "    print(s.model())"
   ]
  },
  {
   "cell_type": "code",
   "execution_count": 9,
   "metadata": {},
   "outputs": [
    {
     "name": "stdout",
     "output_type": "stream",
     "text": [
      "[y = 10, x = 9]\n"
     ]
    }
   ],
   "source": [
    "x, y = Reals('x y')\n",
    "\n",
    "s = Solver()\n",
    "\n",
    "s.add(\n",
    "    4*x + y + 4 == 50,\n",
    "    3*x - 0.5*y == 22\n",
    ")\n",
    "\n",
    "if s.check() == sat:\n",
    "    print(s.model())"
   ]
  },
  {
   "attachments": {},
   "cell_type": "markdown",
   "metadata": {},
   "source": [
    "# N dama\n"
   ]
  },
  {
   "cell_type": "code",
   "execution_count": 10,
   "metadata": {},
   "outputs": [
    {
     "name": "stdout",
     "output_type": "stream",
     "text": [
      "[Q_3 = 2,\n",
      " Q_1 = 6,\n",
      " Q_7 = 1,\n",
      " Q_5 = 5,\n",
      " Q_4 = 0,\n",
      " Q_0 = 3,\n",
      " Q_2 = 4,\n",
      " Q_6 = 7]\n"
     ]
    }
   ],
   "source": [
    "# na p_i_j se nalazi dama\n",
    "# Q_{i} - broj kolone u kojoj se nalazi u i-tom redu\n",
    "\n",
    "n = 8\n",
    "Q = [Int(f'Q_{i}') for i in range(n)]\n",
    "\n",
    "val_c = [And(0 <= q, q < n) for q in Q]\n",
    "col_c = [Distinct(Q)]\n",
    "diag_c = [\n",
    "    And(Q[i] - Q[j] != i - j, Q[i] - Q[j] != j-i)\n",
    "    for i in range(n) for j in range(i) if i != j\n",
    "]\n",
    "\n",
    "solve(val_c + col_c + diag_c)"
   ]
  }
 ],
 "metadata": {
  "kernelspec": {
   "display_name": "base",
   "language": "python",
   "name": "python3"
  },
  "language_info": {
   "codemirror_mode": {
    "name": "ipython",
    "version": 3
   },
   "file_extension": ".py",
   "mimetype": "text/x-python",
   "name": "python",
   "nbconvert_exporter": "python",
   "pygments_lexer": "ipython3",
   "version": "3.9.13"
  },
  "orig_nbformat": 4
 },
 "nbformat": 4,
 "nbformat_minor": 2
}
