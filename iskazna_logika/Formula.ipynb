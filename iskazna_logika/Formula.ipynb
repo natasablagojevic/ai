{
  "cells": [
    {
      "cell_type": "markdown",
      "metadata": {
        "id": "R86MCvfjcaNn"
      },
      "source": [
        "# ISKAZNA LOGIKA\n",
        "\n",
        "- valuacija kombinacija True ili False za iskazne promenljive\n",
        "- Formula:\n",
        "  1. T, F\n",
        "  2. a = T\n",
        "  3. a and T\n",
        "  4. a and (T or F)\n",
        "\n",
        "  \n",
        "      and\n",
        "     /   \\\n",
        "    a     or \n",
        "         /  \\\n",
        "        T    F \n",
        "\n",
        "- f = And(Var('a'), Or(Const(True), Const(False)))\n",
        "- f = interpret(valuation)"
      ]
    },
    {
      "cell_type": "code",
      "execution_count": null,
      "metadata": {
        "id": "DhgeUX72bbhx"
      },
      "outputs": [],
      "source": [
        "\"\"\"\n",
        "class Formula:\n",
        "  def __init__(self):\n",
        "    self.components = []\n",
        "\n",
        "  # apstraktna funkcija\n",
        "  def interpret(self, valuation):\n",
        "    pass \n",
        "\n",
        "class Var(Formula):\n",
        "  def __init__(self, name):\n",
        "    super().__init__()\n",
        "    self.name = name \n",
        "\n",
        "  def interpret(self, valuation):\n",
        "    return valuation[self.name]\n",
        "\n",
        "  def __str__(self):\n",
        "    return self.name \n",
        "\n",
        "class Const(Formula):\n",
        "  def __init__(self, value):\n",
        "    super().__init__()\n",
        "    self.value = value\n",
        "\n",
        "  def interpret(self, valuation):\n",
        "    return self.value \n",
        "\n",
        "  def __str__(self):\n",
        "    return f'{\"T\" if self.value else \"F\"}'\n",
        "\n",
        "class And(Formula):\n",
        "  def __init__(self, lhs, rhs):\n",
        "    super().__init__()\n",
        "    self.components = [lhs, rhs]\n",
        "\n",
        "  def interpret(self, valuation):\n",
        "    return self.components[0].interpret(valuation) and self.components[1].interpret(valuation)\n",
        "\n",
        "  def __str__(self):\n",
        "    return f'({self.components[0]} & {self.components[1]})'\n",
        "\n",
        "class Or(Formula):\n",
        "  def __init__(self, lhs, rhs):\n",
        "    super().__init__()\n",
        "    self.components = [lhs, rhs]\n",
        "\n",
        "  def interpret(self, valuation):\n",
        "    return self.components[0].interpret(valuation) or self.components[1].interpret(valuation)\n",
        "\n",
        "  def __str__(self):\n",
        "    return f'({self.components[0]} | {self.components[1]})' \n",
        "\n",
        "class Impl(Formula):\n",
        "  def __init__(self, lhs, rhs):\n",
        "    super().__init__()\n",
        "    self.components = [lhs, rhs]\n",
        "\n",
        "  def interpret(self, valuation):\n",
        "    return not self.components[0].interpret(valuation) or self.components[1].interpret(valuation)\n",
        "\n",
        "  def __str__(self):\n",
        "    return f'({self.components[0]} => {self.components[1]})'\n",
        "\n",
        "class Eq(Formula):\n",
        "  def __init__(self, lhs, rhs):\n",
        "    super().__init__()\n",
        "    self.components = [lhs, rhs]\n",
        "\n",
        "  def interpret(self, valuation):\n",
        "    return self.components[0].interpret(valuation) == self.components[1].interpret(valuation)\n",
        "\n",
        "  def __str__(self):\n",
        "    return f'({self.components[0]} == {self.components[1]})'\n",
        "\n",
        "class Not(Formula):\n",
        "  def __init__(self, op):\n",
        "    super().__init__()\n",
        "    self.components = [op]\n",
        "\n",
        "  def interpret(self, valuation):\n",
        "    return not self.components[0].interpret(valuation)\n",
        "\n",
        "  def __str__(self):\n",
        "    return f'~({self.components[0]})'\n",
        "\"\"\""
      ]
    },
    {
      "cell_type": "code",
      "execution_count": 5,
      "metadata": {
        "id": "dieddPbAkFMd"
      },
      "outputs": [],
      "source": [
        "import copy\n",
        "\n",
        "class Formula:\n",
        "  def __init__(self):\n",
        "    self.components = []\n",
        "\n",
        "  # apstraktna funkcija\n",
        "  def interpret(self, valuation):\n",
        "    pass \n",
        "\n",
        "  def __eq__(self, rhs):\n",
        "    # da izbegnemo reference saljemo kopiju\n",
        "    return Eq(self.copy(), rhs.copy())\n",
        "  \n",
        "  def copy(self):\n",
        "    return copy.deepcopy(self)\n",
        "\n",
        "  def __and__(self, rhs):\n",
        "    # da izbegnemo reference saljemo kopiju\n",
        "    return And(self.copy(), rhs.copy())\n",
        "\n",
        "  def __or__(self, rhs):\n",
        "    # da izbegnemo reference saljemo kopiju\n",
        "    return Or(self.copy(), rhs.copy())\n",
        "\n",
        "  def __rshift__(self, rhs):\n",
        "    # da izbegnemo reference saljemo kopiju\n",
        "    return Impl(self.copy(), rhs.copy())\n",
        "\n",
        "  def __invert__(self):\n",
        "    # da izbegnemo reference saljemo kopiju\n",
        "    return Not(self.copy())\n",
        "\n",
        "\n",
        "  def is_valid(self):\n",
        "    variables = list(self.get_all_variables())\n",
        "\n",
        "    for valuation in all_valuation(variables):\n",
        "      if self.interpret(valuation) == False:\n",
        "        return False, valuation \n",
        "\n",
        "    return True, None \n",
        "\n",
        "  # Resenje SAT problema\n",
        "  # Problem zadovoljivosti\n",
        "  # NP-kompletan problem\n",
        "  def is_satisfable(self):\n",
        "    variables = list(self.get_all_variables())\n",
        "                    \n",
        "                    # eksponencijalan broj resenja\n",
        "    for valuation in all_valuation(variables):\n",
        "      if self.interpret(valuation) == True:\n",
        "        return True, valuation \n",
        "\n",
        "    return False, None \n",
        "\n",
        "  def is_contradictory(self):\n",
        "    variables = list(self.get_all_variables())\n",
        "\n",
        "    for valuation in all_valuation(variables):\n",
        "      if self.interpret(valuation) == True:\n",
        "        return False, valuation \n",
        "\n",
        "    return True, None \n",
        "\n",
        "  # poreciva\n",
        "  def is_falsifable(self):\n",
        "    variables = list(self.get_all_variables())\n",
        "\n",
        "    for valuation in all_valuation(variables):\n",
        "      if self.interpret(valuation) == False:\n",
        "        return True, valuation \n",
        "\n",
        "    return False, None \n",
        "\n",
        "\n",
        "  def get_all_variables(self):\n",
        "    result = set()\n",
        "\n",
        "    for c in self.components:\n",
        "      result.update(c.get_all_variables())\n",
        "\n",
        "    return result\n",
        "\n",
        "  def all_true_valuations(self):\n",
        "    result = []\n",
        "    variables = list(self.get_all_variables())\n",
        "\n",
        "    for valuation in all_valuation(variables):\n",
        "      if self.interpret(valuation) == True:\n",
        "        result.append(valuation)\n",
        "\n",
        "    return result\n",
        "\n",
        "\n",
        "\n",
        "class Var(Formula):\n",
        "  def __init__(self, name):\n",
        "    super().__init__()\n",
        "    self.name = name \n",
        "\n",
        "  def interpret(self, valuation):\n",
        "    return valuation[self.name]\n",
        "\n",
        "  def __str__(self):\n",
        "    return self.name \n",
        "\n",
        "  # secenje rekurzije\n",
        "  def get_all_variables(self):\n",
        "    return set([self.name])\n",
        "\n",
        "class Const(Formula):\n",
        "  def __init__(self, value):\n",
        "    super().__init__()\n",
        "    self.value = value\n",
        "\n",
        "  def interpret(self, valuation):\n",
        "    return self.value \n",
        "\n",
        "  def __str__(self):\n",
        "    return f'{\"T\" if self.value else \"F\"}'\n",
        "\n",
        "class And(Formula):\n",
        "  def __init__(self, lhs, rhs):\n",
        "    super().__init__()\n",
        "    self.components = [lhs, rhs]\n",
        "\n",
        "  def interpret(self, valuation):\n",
        "    return self.components[0].interpret(valuation) and self.components[1].interpret(valuation)\n",
        "\n",
        "  def __str__(self):\n",
        "    return f'({self.components[0]} & {self.components[1]})'\n",
        "\n",
        "class Or(Formula):\n",
        "  def __init__(self, lhs, rhs):\n",
        "    super().__init__()\n",
        "    self.components = [lhs, rhs]\n",
        "\n",
        "  def interpret(self, valuation):\n",
        "    return self.components[0].interpret(valuation) or self.components[1].interpret(valuation)\n",
        "\n",
        "  def __str__(self):\n",
        "    return f'({self.components[0]} | {self.components[1]})' \n",
        "\n",
        "class Impl(Formula):\n",
        "  def __init__(self, lhs, rhs):\n",
        "    super().__init__()\n",
        "    self.components = [lhs, rhs]\n",
        "\n",
        "  def interpret(self, valuation):\n",
        "    return not self.components[0].interpret(valuation) or self.components[1].interpret(valuation)\n",
        "\n",
        "  def __str__(self):\n",
        "    return f'({self.components[0]} => {self.components[1]})'\n",
        "\n",
        "class Eq(Formula):\n",
        "  def __init__(self, lhs, rhs):\n",
        "    super().__init__()\n",
        "    self.components = [lhs, rhs]\n",
        "\n",
        "  def interpret(self, valuation):\n",
        "    return self.components[0].interpret(valuation) == self.components[1].interpret(valuation)\n",
        "\n",
        "  def __str__(self):\n",
        "    return f'({self.components[0]} == {self.components[1]})'\n",
        "\n",
        "class Not(Formula):\n",
        "  def __init__(self, op):\n",
        "    super().__init__()\n",
        "    self.components = [op]\n",
        "\n",
        "  def interpret(self, valuation):\n",
        "    return not self.components[0].interpret(valuation)\n",
        "\n",
        "  def __str__(self):\n",
        "    return f'~({self.components[0]})'"
      ]
    },
    {
      "cell_type": "code",
      "execution_count": 2,
      "metadata": {
        "id": "hG-1HMj_fGLa"
      },
      "outputs": [],
      "source": [
        "f = And(Var(\"a\"), Or(Const(True), Const(False)))"
      ]
    },
    {
      "cell_type": "code",
      "execution_count": 3,
      "metadata": {
        "colab": {
          "base_uri": "https://localhost:8080/"
        },
        "id": "ADTTld4vjBlt",
        "outputId": "6dfc53f3-d610-4f63-e4e6-0cfd7768ebf9"
      },
      "outputs": [
        {
          "data": {
            "text/plain": [
              "True"
            ]
          },
          "execution_count": 3,
          "metadata": {},
          "output_type": "execute_result"
        }
      ],
      "source": [
        "f.interpret({\"a\": True})"
      ]
    },
    {
      "cell_type": "code",
      "execution_count": 6,
      "metadata": {
        "id": "9MblheqCjSHj"
      },
      "outputs": [
        {
          "ename": "AttributeError",
          "evalue": "'bool' object has no attribute 'copy'",
          "output_type": "error",
          "traceback": [
            "\u001b[0;31m---------------------------------------------------------------------------\u001b[0m",
            "\u001b[0;31mAttributeError\u001b[0m                            Traceback (most recent call last)",
            "Cell \u001b[0;32mIn[6], line 2\u001b[0m\n\u001b[1;32m      1\u001b[0m a \u001b[39m=\u001b[39m Var(\u001b[39m\"\u001b[39m\u001b[39ma\u001b[39m\u001b[39m\"\u001b[39m)\n\u001b[0;32m----> 2\u001b[0m f1 \u001b[39m=\u001b[39m a \u001b[39m&\u001b[39;49m (\u001b[39mTrue\u001b[39;49;00m \u001b[39m|\u001b[39;49m \u001b[39mFalse\u001b[39;49;00m)\n",
            "Cell \u001b[0;32mIn[5], line 20\u001b[0m, in \u001b[0;36mFormula.__and__\u001b[0;34m(self, rhs)\u001b[0m\n\u001b[1;32m     18\u001b[0m \u001b[39mdef\u001b[39;00m \u001b[39m__and__\u001b[39m(\u001b[39mself\u001b[39m, rhs):\n\u001b[1;32m     19\u001b[0m   \u001b[39m# da izbegnemo reference saljemo kopiju\u001b[39;00m\n\u001b[0;32m---> 20\u001b[0m   \u001b[39mreturn\u001b[39;00m And(\u001b[39mself\u001b[39m\u001b[39m.\u001b[39mcopy(), rhs\u001b[39m.\u001b[39;49mcopy())\n",
            "\u001b[0;31mAttributeError\u001b[0m: 'bool' object has no attribute 'copy'"
          ]
        }
      ],
      "source": [
        "a = Var(\"a\")\n",
        "f1 = a & (True | False)"
      ]
    },
    {
      "cell_type": "code",
      "execution_count": 7,
      "metadata": {
        "colab": {
          "base_uri": "https://localhost:8080/"
        },
        "id": "nNU9uIQllBZo",
        "outputId": "3275d53c-5e43-42f1-df71-30e018ac9f75"
      },
      "outputs": [
        {
          "ename": "TypeError",
          "evalue": "vars() argument must have __dict__ attribute",
          "output_type": "error",
          "traceback": [
            "\u001b[0;31m---------------------------------------------------------------------------\u001b[0m",
            "\u001b[0;31mTypeError\u001b[0m                                 Traceback (most recent call last)",
            "Cell \u001b[0;32mIn[7], line 4\u001b[0m\n\u001b[1;32m      1\u001b[0m \u001b[39m# b = Var(\"b\")\u001b[39;00m\n\u001b[1;32m      2\u001b[0m \u001b[39m# c = Var(\"c\")\u001b[39;00m\n\u001b[0;32m----> 4\u001b[0m b, c \u001b[39m=\u001b[39m \u001b[39mvars\u001b[39;49m(\u001b[39m\"\u001b[39;49m\u001b[39mb, c\u001b[39;49m\u001b[39m\"\u001b[39;49m)\n\u001b[1;32m      6\u001b[0m \u001b[39m# f = c | b \u001b[39;00m\n\u001b[1;32m      7\u001b[0m f \u001b[39m=\u001b[39m c \u001b[39m>>\u001b[39m b\n",
            "\u001b[0;31mTypeError\u001b[0m: vars() argument must have __dict__ attribute"
          ]
        }
      ],
      "source": [
        "# b = Var(\"b\")\n",
        "# c = Var(\"c\")\n",
        "\n",
        "b, c = vars(\"b, c\")\n",
        "\n",
        "# f = c | b \n",
        "f = c >> b\n",
        "f.interpret({\"b\": False, \"c\": False})"
      ]
    },
    {
      "cell_type": "code",
      "execution_count": null,
      "metadata": {
        "colab": {
          "base_uri": "https://localhost:8080/",
          "height": 167
        },
        "id": "XwsRRtTZsfce",
        "outputId": "8a183d51-e76a-4d17-f0e0-24ca93faf5b7"
      },
      "outputs": [
        {
          "ename": "AttributeError",
          "evalue": "ignored",
          "output_type": "error",
          "traceback": [
            "\u001b[0;31m---------------------------------------------------------------------------\u001b[0m",
            "\u001b[0;31mAttributeError\u001b[0m                            Traceback (most recent call last)",
            "\u001b[0;32m<ipython-input-22-329e1fefaa56>\u001b[0m in \u001b[0;36m<module>\u001b[0;34m\u001b[0m\n\u001b[0;32m----> 1\u001b[0;31m \u001b[0mf\u001b[0m\u001b[0;34m.\u001b[0m\u001b[0mget_all_variables\u001b[0m\u001b[0;34m(\u001b[0m\u001b[0;34m)\u001b[0m\u001b[0;34m\u001b[0m\u001b[0;34m\u001b[0m\u001b[0m\n\u001b[0m",
            "\u001b[0;31mAttributeError\u001b[0m: 'Impl' object has no attribute 'get_all_variables'"
          ]
        }
      ],
      "source": [
        "f.get_all_variables()"
      ]
    },
    {
      "cell_type": "code",
      "execution_count": null,
      "metadata": {
        "id": "IMN1cEhfpAlU"
      },
      "outputs": [],
      "source": [
        "def vars(names):\n",
        "  return [Var(name.strip()) for name in names.split(',')]"
      ]
    },
    {
      "cell_type": "code",
      "execution_count": null,
      "metadata": {
        "id": "LjmVgrbqpZge"
      },
      "outputs": [],
      "source": [
        "def evaluate_formula(formula: Formula):\n",
        "  print(formula)\n",
        "  print(\"is valid: \", formula.is_valid())\n",
        "  print(\"is satisfable: \", formula.is_satisfable())\n",
        "  print(\"is falsifable: \", formula.is_falsifable())\n",
        "  print(\"is contradictory: \", formula.is_contradictory())\n",
        "  print(\"all true variables:\", formula.all_true_valuations())"
      ]
    },
    {
      "cell_type": "code",
      "execution_count": null,
      "metadata": {
        "id": "DLhSN0rCsln0"
      },
      "outputs": [],
      "source": [
        "from itertools import combinations\n",
        "def all_valuation(variables):\n",
        "  \n",
        "  # all_valuation = []\n",
        "  \n",
        "  for r in range(0, len(variables) + 1):\n",
        "    for true_variables in combinations(variables, r):\n",
        "      result = {x : False for x in variables}\n",
        "      result.update({x : True for x in true_variables})\n",
        "      # all_valuation.append(result)\n",
        "      yield result    # return res, pa kada se pozove opet funkcija krece od sledece iteracije petlje"
      ]
    },
    {
      "cell_type": "code",
      "execution_count": null,
      "metadata": {
        "colab": {
          "base_uri": "https://localhost:8080/",
          "height": 306
        },
        "id": "mn4bH_7qwAld",
        "outputId": "c4f4310c-43e2-4808-b7d2-bf40ee5193a1"
      },
      "outputs": [
        {
          "name": "stdout",
          "output_type": "stream",
          "text": [
            "(c => b)\n"
          ]
        },
        {
          "ename": "AttributeError",
          "evalue": "ignored",
          "output_type": "error",
          "traceback": [
            "\u001b[0;31m---------------------------------------------------------------------------\u001b[0m",
            "\u001b[0;31mAttributeError\u001b[0m                            Traceback (most recent call last)",
            "\u001b[0;32m<ipython-input-28-a5d5a17202ee>\u001b[0m in \u001b[0;36m<module>\u001b[0;34m\u001b[0m\n\u001b[0;32m----> 1\u001b[0;31m \u001b[0mevaluate_formula\u001b[0m\u001b[0;34m(\u001b[0m\u001b[0mf\u001b[0m\u001b[0;34m)\u001b[0m\u001b[0;34m\u001b[0m\u001b[0;34m\u001b[0m\u001b[0m\n\u001b[0m",
            "\u001b[0;32m<ipython-input-27-e6236265fc0e>\u001b[0m in \u001b[0;36mevaluate_formula\u001b[0;34m(formula)\u001b[0m\n\u001b[1;32m      1\u001b[0m \u001b[0;32mdef\u001b[0m \u001b[0mevaluate_formula\u001b[0m\u001b[0;34m(\u001b[0m\u001b[0mformula\u001b[0m\u001b[0;34m)\u001b[0m\u001b[0;34m:\u001b[0m\u001b[0;34m\u001b[0m\u001b[0;34m\u001b[0m\u001b[0m\n\u001b[1;32m      2\u001b[0m   \u001b[0mprint\u001b[0m\u001b[0;34m(\u001b[0m\u001b[0mformula\u001b[0m\u001b[0;34m)\u001b[0m\u001b[0;34m\u001b[0m\u001b[0;34m\u001b[0m\u001b[0m\n\u001b[0;32m----> 3\u001b[0;31m   \u001b[0mprint\u001b[0m\u001b[0;34m(\u001b[0m\u001b[0;34m\"is valid: \"\u001b[0m \u001b[0;34m+\u001b[0m \u001b[0mformula\u001b[0m\u001b[0;34m.\u001b[0m\u001b[0mis_valid\u001b[0m\u001b[0;34m(\u001b[0m\u001b[0;34m)\u001b[0m\u001b[0;34m)\u001b[0m\u001b[0;34m\u001b[0m\u001b[0;34m\u001b[0m\u001b[0m\n\u001b[0m\u001b[1;32m      4\u001b[0m   \u001b[0mprint\u001b[0m\u001b[0;34m(\u001b[0m\u001b[0;34m\"is satisfable: \"\u001b[0m \u001b[0;34m+\u001b[0m \u001b[0mformula\u001b[0m\u001b[0;34m.\u001b[0m\u001b[0mis_satisfable\u001b[0m\u001b[0;34m(\u001b[0m\u001b[0;34m)\u001b[0m\u001b[0;34m)\u001b[0m\u001b[0;34m\u001b[0m\u001b[0;34m\u001b[0m\u001b[0m\n\u001b[1;32m      5\u001b[0m   \u001b[0mprint\u001b[0m\u001b[0;34m(\u001b[0m\u001b[0;34m\"is falsifable: \"\u001b[0m \u001b[0;34m+\u001b[0m \u001b[0mformula\u001b[0m\u001b[0;34m.\u001b[0m\u001b[0mis_falsifable\u001b[0m\u001b[0;34m(\u001b[0m\u001b[0;34m)\u001b[0m\u001b[0;34m)\u001b[0m\u001b[0;34m\u001b[0m\u001b[0;34m\u001b[0m\u001b[0m\n",
            "\u001b[0;31mAttributeError\u001b[0m: 'Impl' object has no attribute 'is_valid'"
          ]
        }
      ],
      "source": [
        "evaluate_formula(f)"
      ]
    },
    {
      "cell_type": "code",
      "execution_count": null,
      "metadata": {
        "colab": {
          "base_uri": "https://localhost:8080/"
        },
        "id": "G1oYqeMYwK6J",
        "outputId": "cd36226e-c7f0-4ef9-eae7-7f49dc7ac7b7"
      },
      "outputs": [
        {
          "name": "stdout",
          "output_type": "stream",
          "text": [
            "(c => b)\n"
          ]
        }
      ],
      "source": [
        "print(f)"
      ]
    },
    {
      "cell_type": "code",
      "execution_count": null,
      "metadata": {
        "id": "U5s9JQHDwlGF"
      },
      "outputs": [],
      "source": [
        "ana_je_zubar = Var(\"ana_je_zubar\")\n",
        "formula = ana_je_zubar | ~ana_je_zubar\n",
        "evaluate_formula(formula)"
      ]
    },
    {
      "cell_type": "code",
      "execution_count": null,
      "metadata": {
        "id": "H84DuVmFyGV4"
      },
      "outputs": [],
      "source": [
        "\"\"\"\n",
        "Date su dve kutije, A i B. Robot mora da stavi objekat u tacno jednu od njih\n",
        " \"\"\""
      ]
    },
    {
      "cell_type": "code",
      "execution_count": null,
      "metadata": {
        "colab": {
          "base_uri": "https://localhost:8080/"
        },
        "id": "BG-QelgHyRwF",
        "outputId": "81e960f3-c736-49e6-b65a-e24d6630d7e0"
      },
      "outputs": [
        {
          "name": "stdout",
          "output_type": "stream",
          "text": [
            "((A & ~(B)) | (~(A) & B))\n",
            "is valid:  (False, {'B': True, 'A': True})\n",
            "is satisfable:  (True, {'B': True, 'A': False})\n",
            "is falsifable:  (True, {'B': True, 'A': True})\n",
            "is contradictory:  (False, {'B': True, 'A': False})\n"
          ]
        }
      ],
      "source": [
        "A, B = vars(\"A,B\")\n",
        "formula = (A & ~B) | (~A & B)\n",
        "evaluate_formula(formula)"
      ]
    },
    {
      "cell_type": "markdown",
      "metadata": {
        "id": "U4cXAMeQzxzk"
      },
      "source": [
        "NOTE: na ispitu ce biti sigurno da se resi mini SAT problem\n",
        "- oni se resavaju preko AND, OR, NOT\n"
      ]
    },
    {
      "cell_type": "code",
      "execution_count": null,
      "metadata": {
        "colab": {
          "base_uri": "https://localhost:8080/",
          "height": 376
        },
        "id": "BP27tHSmy7IH",
        "outputId": "a9d27ee5-b27d-449a-cff9-14d5c2456a37"
      },
      "outputs": [
        {
          "name": "stdout",
          "output_type": "stream",
          "text": [
            "((((A | B) & (~(A) | ~(B))) & (C | D)) & (~(C) | ~(D)))\n",
            "is valid:  (False, {'B': True, 'D': False, 'A': False, 'C': False})\n",
            "is satisfable:  (True, {'B': True, 'D': True, 'A': False, 'C': False})\n",
            "is falsifable:  (True, {'B': True, 'D': False, 'A': False, 'C': False})\n",
            "is contradictory:  (False, {'B': True, 'D': True, 'A': False, 'C': False})\n"
          ]
        },
        {
          "ename": "AttributeError",
          "evalue": "ignored",
          "output_type": "error",
          "traceback": [
            "\u001b[0;31m---------------------------------------------------------------------------\u001b[0m",
            "\u001b[0;31mAttributeError\u001b[0m                            Traceback (most recent call last)",
            "\u001b[0;32m<ipython-input-34-ba4515e263f0>\u001b[0m in \u001b[0;36m<module>\u001b[0;34m\u001b[0m\n\u001b[1;32m     12\u001b[0m \u001b[0;31m# (A or B) and not(A and B) and (C or D) and not(C and D)\u001b[0m\u001b[0;34m\u001b[0m\u001b[0;34m\u001b[0m\u001b[0m\n\u001b[1;32m     13\u001b[0m \u001b[0mformula\u001b[0m \u001b[0;34m=\u001b[0m \u001b[0;34m(\u001b[0m\u001b[0mA\u001b[0m \u001b[0;34m|\u001b[0m \u001b[0mB\u001b[0m\u001b[0;34m)\u001b[0m \u001b[0;34m&\u001b[0m \u001b[0;34m(\u001b[0m\u001b[0;34m~\u001b[0m\u001b[0mA\u001b[0m \u001b[0;34m|\u001b[0m \u001b[0;34m~\u001b[0m\u001b[0mB\u001b[0m\u001b[0;34m)\u001b[0m \u001b[0;34m&\u001b[0m \u001b[0;34m(\u001b[0m\u001b[0mC\u001b[0m \u001b[0;34m|\u001b[0m \u001b[0mD\u001b[0m\u001b[0;34m)\u001b[0m \u001b[0;34m&\u001b[0m \u001b[0;34m(\u001b[0m\u001b[0;34m~\u001b[0m\u001b[0mC\u001b[0m \u001b[0;34m|\u001b[0m \u001b[0;34m~\u001b[0m\u001b[0mD\u001b[0m\u001b[0;34m)\u001b[0m\u001b[0;34m\u001b[0m\u001b[0;34m\u001b[0m\u001b[0m\n\u001b[0;32m---> 14\u001b[0;31m \u001b[0mevaluate_formula\u001b[0m\u001b[0;34m(\u001b[0m\u001b[0mformula\u001b[0m\u001b[0;34m)\u001b[0m\u001b[0;34m\u001b[0m\u001b[0;34m\u001b[0m\u001b[0m\n\u001b[0m",
            "\u001b[0;32m<ipython-input-33-7a23f234ab5d>\u001b[0m in \u001b[0;36mevaluate_formula\u001b[0;34m(formula)\u001b[0m\n\u001b[1;32m      5\u001b[0m   \u001b[0mprint\u001b[0m\u001b[0;34m(\u001b[0m\u001b[0;34m\"is falsifable: \"\u001b[0m\u001b[0;34m,\u001b[0m \u001b[0mformula\u001b[0m\u001b[0;34m.\u001b[0m\u001b[0mis_falsifable\u001b[0m\u001b[0;34m(\u001b[0m\u001b[0;34m)\u001b[0m\u001b[0;34m)\u001b[0m\u001b[0;34m\u001b[0m\u001b[0;34m\u001b[0m\u001b[0m\n\u001b[1;32m      6\u001b[0m   \u001b[0mprint\u001b[0m\u001b[0;34m(\u001b[0m\u001b[0;34m\"is contradictory: \"\u001b[0m\u001b[0;34m,\u001b[0m \u001b[0mformula\u001b[0m\u001b[0;34m.\u001b[0m\u001b[0mis_contradictory\u001b[0m\u001b[0;34m(\u001b[0m\u001b[0;34m)\u001b[0m\u001b[0;34m)\u001b[0m\u001b[0;34m\u001b[0m\u001b[0;34m\u001b[0m\u001b[0m\n\u001b[0;32m----> 7\u001b[0;31m   \u001b[0mprint\u001b[0m\u001b[0;34m(\u001b[0m\u001b[0;34m\"all true variables:\"\u001b[0m\u001b[0;34m,\u001b[0m \u001b[0mformula\u001b[0m\u001b[0;34m.\u001b[0m\u001b[0mall_true_valuations\u001b[0m\u001b[0;34m(\u001b[0m\u001b[0;34m)\u001b[0m\u001b[0;34m)\u001b[0m\u001b[0;34m\u001b[0m\u001b[0;34m\u001b[0m\u001b[0m\n\u001b[0m",
            "\u001b[0;31mAttributeError\u001b[0m: 'And' object has no attribute 'all_true_valuations'"
          ]
        }
      ],
      "source": [
        "\"\"\"\n",
        "|A|B|\n",
        "|C|D|\n",
        "\n",
        "2x2 tacno jedan zeton u svakom redu\n",
        "\"\"\"\n",
        "\n",
        "A, B, C, D = vars(\"A,B,C,D\")\n",
        "\n",
        "# dobar oblik za SAT probleme\n",
        "# odekuju KNF format \n",
        "# (A or B) and not(A and B) and (C or D) and not(C and D)\n",
        "formula = (A | B) & (~A | ~B) & (C | D) & (~C | ~D)\n",
        "evaluate_formula(formula)"
      ]
    }
  ],
  "metadata": {
    "colab": {
      "provenance": []
    },
    "kernelspec": {
      "display_name": "Python 3",
      "name": "python3"
    },
    "language_info": {
      "codemirror_mode": {
        "name": "ipython",
        "version": 3
      },
      "file_extension": ".py",
      "mimetype": "text/x-python",
      "name": "python",
      "nbconvert_exporter": "python",
      "pygments_lexer": "ipython3",
      "version": "3.10.6"
    }
  },
  "nbformat": 4,
  "nbformat_minor": 0
}
