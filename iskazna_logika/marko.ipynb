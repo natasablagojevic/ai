{
  "nbformat": 4,
  "nbformat_minor": 0,
  "metadata": {
    "colab": {
      "provenance": []
    },
    "kernelspec": {
      "name": "python3",
      "display_name": "Python 3"
    },
    "language_info": {
      "name": "python"
    }
  },
  "cells": [
    {
      "cell_type": "markdown",
      "source": [
        "# **AUTOMATSKO RASUDJIVANJE**\n",
        "\n",
        "- "
      ],
      "metadata": {
        "id": "txgS5R3OYbu2"
      }
    },
    {
      "cell_type": "code",
      "execution_count": 1,
      "metadata": {
        "id": "6ChXb8irUhoV"
      },
      "outputs": [],
      "source": [
        "import copy"
      ]
    },
    {
      "cell_type": "code",
      "source": [
        "class Formula:\n",
        "  def __init__(self):\n",
        "      self.components = []\n",
        "\n",
        "  def interpret(self, valuation):\n",
        "    pass\n",
        "\n",
        "  def copy(self):\n",
        "    return copy.deepcopy(self)\n",
        "\n",
        "  def __repr__(self):\n",
        "    return str(self)\n",
        "\n",
        "  def __eq__(self, right):\n",
        "    return Eq(self.copy(), right.copy())\n",
        "\n",
        "  def __and__(self, right):\n",
        "    return And(self.copy(), right.copy())\n",
        "\n",
        "  def __or__(self, right):\n",
        "    return Or(self.copy(), right.copy())\n",
        "\n",
        "  def __rshift__(self, right):\n",
        "    return Impl(self.copy(), right.copy())\n",
        "\n",
        "  def __invert__(self):\n",
        "    return Not(self.copy())\n",
        "\n",
        "  def get_all_variables(self):\n",
        "    result = set()\n",
        "    for c in self.components:\n",
        "      result.update(c.get_all_variables())\n",
        "\n",
        "    return result\n",
        "\n",
        "  def is_valid(self):\n",
        "    variables = list(self.get_all_variables())\n",
        "    for valuation in all_valuations(variables):\n",
        "      if self.interpret(valuation) == False:\n",
        "        return False, valuation \n",
        "\n",
        "    return True, None\n",
        "\n",
        "  def is_satisable(self):\n",
        "    variables = list(self.get_all_variables())\n",
        "    for valuation in all_valuations(variables):\n",
        "      if self.interpret(valuation) == True:\n",
        "        return True, valuation\n",
        "\n",
        "    return False, None \n",
        "\n",
        "  # ???\n",
        "  def is_contradictory(self):\n",
        "    variables = list(self.get_all_variables())\n",
        "    for valuation in all_valuations(variables):\n",
        "      if self.interpret(valuation) == True:\n",
        "        return False, valuation\n",
        "\n",
        "    return True, None\n",
        "\n",
        "  def is_falsifiable(self):\n",
        "    variables = list(self.get_all_variables())\n",
        "    for valuation in all_valuations(variables):\n",
        "      if self.interpret(valuation) == False:\n",
        "        return True, valuation\n",
        "\n",
        "    return False, None    \n",
        "\n",
        "  def all_satisfable_valuations(self):\n",
        "    result = []\n",
        "    variables = list(self.get_all_variables())\n",
        "    for valuation in all_valuations(variables):\n",
        "      if self.interpret(valuation) == True:\n",
        "        result.append(valuation)\n",
        "\n",
        "    return result  \n",
        "\n",
        "class Var(Formula):\n",
        "  def __init__(self, name):\n",
        "    super().__init__()\n",
        "    self.name = name\n",
        " \n",
        "  def interpret(self, valuation):\n",
        "    return valuation[self.name]\n",
        "\n",
        "  def get_all_variables(self):\n",
        "    return set([self.name])\n",
        "\n",
        "  def __str__(self):\n",
        "    return self.name\n",
        "\n",
        "class Const(Formula):\n",
        "  def __init__(self, value):\n",
        "    super().__init__()\n",
        "    self.value = value\n",
        "\n",
        "  def interpret(self, valuation):\n",
        "    return self.value\n",
        "\n",
        "  def __str__(self):\n",
        "    return f'{1 if self.value else 0}'\n",
        "\n",
        "class Binary(Formula):\n",
        "  def __init__(self, left, right):\n",
        "    super().__init__()\n",
        "    self.left = left\n",
        "    self.right = right \n",
        "\n",
        "  def interpret(self, valuation):\n",
        "    return valuation[self.name]\n",
        "\n",
        "\n",
        "class And(Formula):\n",
        "  def __init__(self, left, right):\n",
        "    super().__init__()\n",
        "    self.components = [left, right]\n",
        "\n",
        "  def interpret(self, valuation):\n",
        "    return self.components[0].interpret(valuation) and self.components[1].interpret(valuation)\n",
        "\n",
        "  def __str__(self):\n",
        "    return f'({self.components[0]}) & ({self.components[1]})'\n",
        "  \n",
        "  \"\"\"\n",
        "  def get_all_variables(self):\n",
        "    left_vars = self.components[0].get_all_variables()\n",
        "    right_vars = self.components[1].get_all_variables()\n",
        "\n",
        "    return left_vars.union(right_vars)\n",
        "  \"\"\"\n",
        "\n",
        "class Or(Formula):\n",
        "  def __init__(self, left, right):\n",
        "    super().__init__()\n",
        "    self.components = [left, right]\n",
        "\n",
        "  def interpret(self, valuation):\n",
        "    return self.components[0].interpret(valuation) or self.components[1].interpret(valuation)\n",
        "\n",
        "  def __str__(self):\n",
        "    return f'({self.components[0]}) | ({self.components[1]})'\n",
        "\n",
        "  \"\"\"\n",
        "  def get_all_variables(self):\n",
        "    left_vars = self.components[0].get_all_variables()\n",
        "    right_vars = self.components[1].get_all_variables()\n",
        "\n",
        "    return left_vars.union(right_vars)\n",
        "  \"\"\"\n",
        "\n",
        "class Impl(Formula):\n",
        "  def __init__(self, left, right):\n",
        "    super().__init__()\n",
        "    self.components = [left, right]\n",
        "\n",
        "  def interpret(self, valuation):\n",
        "    return not self.components[0].interpret(valuation) or self.components[1].interpret(valuation)\n",
        "\n",
        "  def __str__(self):\n",
        "    return f'({self.components[0]}) >> ({self.components[1]})'\n",
        "\n",
        "  \"\"\"\n",
        "  def get_all_variables(self):\n",
        "    left_vars = self.components[0].get_all_variables()\n",
        "    right_vars = self.components[1].get_all_variables()\n",
        "\n",
        "    return left_vars.union(right_vars)\n",
        "  \"\"\"\n",
        "\n",
        "class Eq(Formula):\n",
        "  def __init__(self, left, right):\n",
        "    super().__init__()\n",
        "    self.components = [left, right]\n",
        "\n",
        "  def interpret(self, valuation):\n",
        "    return self.components[0].interpret(valuation) == self.components[1].interpret(valuation) \n",
        "  \n",
        "  def __str__(self):\n",
        "    return f'({self.components[0]}) == ({self.components[1]})'\n",
        "\n",
        "  \"\"\"\n",
        "  def get_all_variables(self):\n",
        "    left_vars = self.components[0].get_all_variables()\n",
        "    right_vars = self.components[1].get_all_variables()\n",
        "\n",
        "    return left_vars.union(right_vars)\n",
        "  \"\"\"\n",
        "\n",
        "class Not(Formula):\n",
        "  def __init__(self, operand):\n",
        "    super().__init__()\n",
        "    self.components = [operand]\n",
        "\n",
        "  def interpret(self, valuation):\n",
        "    return not self.components[0].interpret(valuation)\n",
        "\n",
        "  def __str__(self):\n",
        "    return f'~({self.components[0]})'\n",
        "\n",
        "  \"\"\"\n",
        "  def get_all_components(self):\n",
        "    return self.components[0].get_all_variables()\n",
        "  \"\"\""
      ],
      "metadata": {
        "id": "9UPOgaOMU0tp"
      },
      "execution_count": 91,
      "outputs": []
    },
    {
      "cell_type": "code",
      "source": [
        "from itertools import combinations\n",
        "def all_valuations(variables):\n",
        "  for r in range(len(variables) + 1):\n",
        "    for true_variables in combinations(variables, r):\n",
        "      res = {x : False for x in variables}\n",
        "      res.update({x : True for x in true_variables})\n",
        "      yield res \n",
        "      # izvrsava je tako sto, kada se prvi put pozove\n",
        "      # napravi se objekat koji ima spec metodu kojom moze da \n",
        "      # vrati sledeci element. Svaki put kada se poziva izvrsava\n",
        "      # se tamo gde je stao"
      ],
      "metadata": {
        "id": "We6s7zOHnlmv"
      },
      "execution_count": 97,
      "outputs": []
    },
    {
      "cell_type": "code",
      "source": [
        "def vars(names):\n",
        "  return [Var(name.strip()) for name in names.split(',')]"
      ],
      "metadata": {
        "id": "LUtMGrpqgNnd"
      },
      "execution_count": 43,
      "outputs": []
    },
    {
      "cell_type": "code",
      "source": [
        "if __name__ == '__main__':\n",
        "  x, y, z = vars(\"x,y,z\")\n",
        "\n",
        "  formula = (x & y) | (z >> y)\n",
        "  \n",
        "  # formula = ~x & x \n",
        "\n",
        "  # formula = Or(\n",
        "  #     And(x, y),\n",
        "  #     Impl(x, y)\n",
        "  # )\n",
        "\n",
        "  valuation = {\n",
        "      \"x\": True,\n",
        "      \"y\": False,\n",
        "      \"z\": True\n",
        "  }\n",
        "\n",
        "  print(formula)\n",
        "  print(formula.interpret(valuation))\n",
        "\n",
        "  print(\"valid:\",formula.is_valid())\n",
        "  print(\"satisfable:\", formula.is_satisable())\n",
        "  print(\"contadictory:\", formula.is_contradictory())\n",
        "  print(\"falsifiable:\", formula.is_falsifiable())\n",
        "  print(formula.all_satisfable_valuations())"
      ],
      "metadata": {
        "colab": {
          "base_uri": "https://localhost:8080/"
        },
        "id": "madYAL3qU5U-",
        "outputId": "7be7275d-413a-4e66-81b4-0e7c0e82fd1a"
      },
      "execution_count": 94,
      "outputs": [
        {
          "output_type": "stream",
          "name": "stdout",
          "text": [
            "((x) & (y)) | ((z) >> (y))\n",
            "False\n",
            "valid: (False, {'z': True, 'y': False, 'x': False})\n",
            "satisfable: (True, {'z': False, 'y': False, 'x': False})\n",
            "contadictory: (False, {'z': False, 'y': False, 'x': False})\n",
            "falsifiable: (True, {'z': True, 'y': False, 'x': False})\n",
            "[{'z': False, 'y': False, 'x': False}, {'z': False, 'y': True, 'x': False}, {'z': False, 'y': False, 'x': True}, {'z': True, 'y': True, 'x': False}, {'z': False, 'y': True, 'x': True}, {'z': True, 'y': True, 'x': True}]\n"
          ]
        }
      ]
    },
    {
      "cell_type": "code",
      "source": [
        "def evaluate_formula(formula: Formula):\n",
        "  print(formula)\n",
        "  # print(formula.interpret(valuation))\n",
        "  print(\"valid:\",formula.is_valid())\n",
        "  print(\"satisfable:\", formula.is_satisable())\n",
        "  print(\"contadictory:\", formula.is_contradictory())\n",
        "  print(\"falsifiable:\", formula.is_falsifiable())\n",
        "  print(\"all true valuations: \")\n",
        "  for val in all_valuations(formula.get_all_variables()):\n",
        "      if formula.interpret(val):\n",
        "          print(val)"
      ],
      "metadata": {
        "id": "nYUAM6V24X-n"
      },
      "execution_count": 99,
      "outputs": []
    },
    {
      "cell_type": "code",
      "source": [
        "\"\"\"\n",
        "  U igri mines dim 2x3 dobijena je sledeca konfiguracija\n",
        "  |1|A|C|\n",
        "  |1|B|2|\n",
        "  A, B, C su neotvorena polja, a brojevi oznacavaju broj mina u okolini polja.\n",
        "  Zapisati u iskaznoj logici uslove koji moraju da vaze.\n",
        "\"\"\"\n",
        "\n",
        "A, B, C = vars(\"A,B,C\")\n",
        "formula = (A | B) & ~(A & B) & (B | A) & ~(B & A) & ~(~A & ~B & ~C) & (A | B) & (B | C) & (A | C) & ~(A & B & C) \n",
        "\n",
        "evaluate_formula(formula)"
      ],
      "metadata": {
        "colab": {
          "base_uri": "https://localhost:8080/"
        },
        "id": "KrqtavYa2onI",
        "outputId": "8d85a4b1-d766-4287-962f-d9a0d4d30177"
      },
      "execution_count": 100,
      "outputs": [
        {
          "output_type": "stream",
          "name": "stdout",
          "text": [
            "(((((((((A) | (B)) & (~((A) & (B)))) & ((B) | (A))) & (~((B) & (A)))) & (~(((~(A)) & (~(B))) & (~(C))))) & ((A) | (B))) & ((B) | (C))) & ((A) | (C))) & (~(((A) & (B)) & (C)))\n",
            "valid: (False, {'B': False, 'C': False, 'A': False})\n",
            "satisfable: (True, {'B': True, 'C': True, 'A': False})\n",
            "contadictory: (False, {'B': True, 'C': True, 'A': False})\n",
            "falsifiable: (True, {'B': False, 'C': False, 'A': False})\n",
            "all true valuations: \n",
            "{'B': True, 'C': True, 'A': False}\n",
            "{'B': False, 'C': True, 'A': True}\n"
          ]
        }
      ]
    },
    {
      "cell_type": "code",
      "source": [
        "\"\"\"\n",
        "|A|B|\n",
        "|C|D|\n",
        "\n",
        "Zapisati uslov da se u tabelu 2x2 sa polja A, B, C, D moze postaviti tacno jedan zeton\n",
        "u svakom redu\n",
        "\"\"\"\n",
        "\n",
        "A, B, C, D = vars(\"A,B,C,D\")\n",
        "\n",
        "formula = (A | B) & ~(A & B) & (C | D) & ~(C & D)\n",
        "\n",
        "evaluate_formula(formula)"
      ],
      "metadata": {
        "colab": {
          "base_uri": "https://localhost:8080/"
        },
        "id": "SmfPQ4d_6lnI",
        "outputId": "f7f614eb-bce1-4413-be09-a059c50cf3ad"
      },
      "execution_count": 101,
      "outputs": [
        {
          "output_type": "stream",
          "name": "stdout",
          "text": [
            "((((A) | (B)) & (~((A) & (B)))) & ((C) | (D))) & (~((C) & (D)))\n",
            "valid: (False, {'B': False, 'D': False, 'C': False, 'A': False})\n",
            "satisfable: (True, {'B': True, 'D': True, 'C': False, 'A': False})\n",
            "contadictory: (False, {'B': True, 'D': True, 'C': False, 'A': False})\n",
            "falsifiable: (True, {'B': False, 'D': False, 'C': False, 'A': False})\n",
            "all true valuations: \n",
            "{'B': True, 'D': True, 'C': False, 'A': False}\n",
            "{'B': True, 'D': False, 'C': True, 'A': False}\n",
            "{'B': False, 'D': True, 'C': False, 'A': True}\n",
            "{'B': False, 'D': False, 'C': True, 'A': True}\n"
          ]
        }
      ]
    },
    {
      "cell_type": "code",
      "source": [
        "\"\"\"\n",
        "U iskaznoj loici zapisati uslov da bitovi 3-bitnog polja moraju biti\n",
        "jednaki\n",
        "\"\"\"\n",
        "\n",
        "A, B, C = vars(\"A,B,C\")\n",
        "\n",
        "formula = (A == B) & (B == C) \n",
        "\n",
        "evaluate_formula(formula)"
      ],
      "metadata": {
        "colab": {
          "base_uri": "https://localhost:8080/"
        },
        "id": "tOlY1JND6tA8",
        "outputId": "f33ac143-2cb4-41dc-dffc-e3ae9290d8c2"
      },
      "execution_count": 102,
      "outputs": [
        {
          "output_type": "stream",
          "name": "stdout",
          "text": [
            "((A) == (B)) & ((B) == (C))\n",
            "valid: (False, {'B': True, 'C': False, 'A': False})\n",
            "satisfable: (True, {'B': False, 'C': False, 'A': False})\n",
            "contadictory: (False, {'B': False, 'C': False, 'A': False})\n",
            "falsifiable: (True, {'B': True, 'C': False, 'A': False})\n",
            "all true valuations: \n",
            "{'B': False, 'C': False, 'A': False}\n",
            "{'B': True, 'C': True, 'A': True}\n"
          ]
        }
      ]
    },
    {
      "cell_type": "code",
      "source": [
        "'''\n",
        "Dva dvobitna broja se sabiraju i daju rezultat 3.\n",
        "1+2\n",
        "2+1\n",
        "3+0\n",
        "0+3\n",
        "    A B\n",
        "    C D\n",
        "    ---\n",
        "    1 1\n",
        "'''\n",
        "\n",
        "A,B,C,D = vars(\"A,B,C,D\")\n",
        "\n",
        "formula = (B | D) & ~(B & D) & (A | C) & ~(A & C) \n",
        "\n",
        "evaluate_formula(formula)"
      ],
      "metadata": {
        "colab": {
          "base_uri": "https://localhost:8080/"
        },
        "id": "KiEOsI7980BU",
        "outputId": "c699dd82-c38e-4b8f-d090-faf6bdd2054d"
      },
      "execution_count": 103,
      "outputs": [
        {
          "output_type": "stream",
          "name": "stdout",
          "text": [
            "((((B) | (D)) & (~((B) & (D)))) & ((A) | (C))) & (~((A) & (C)))\n",
            "valid: (False, {'B': False, 'D': False, 'C': False, 'A': False})\n",
            "satisfable: (True, {'B': True, 'D': False, 'C': True, 'A': False})\n",
            "contadictory: (False, {'B': True, 'D': False, 'C': True, 'A': False})\n",
            "falsifiable: (True, {'B': False, 'D': False, 'C': False, 'A': False})\n",
            "all true valuations: \n",
            "{'B': True, 'D': False, 'C': True, 'A': False}\n",
            "{'B': True, 'D': False, 'C': False, 'A': True}\n",
            "{'B': False, 'D': True, 'C': True, 'A': False}\n",
            "{'B': False, 'D': True, 'C': False, 'A': True}\n"
          ]
        }
      ]
    },
    {
      "cell_type": "code",
      "source": [
        "'''\n",
        "U iskoznoj logici zapisati da je 4 bitna reprezentacija broja palindrom ali da \n",
        "bitovi nisu jednaki\n",
        "ABCD\n",
        "'''\n",
        "\n",
        "A,B,C,D = vars(\"A,B,C,D\")\n",
        "\n",
        "formula = (A == D) & (B == C) & (~(A == B) & (B == C) & (C == D))\n",
        "\n",
        "evaluate_formula(formula)"
      ],
      "metadata": {
        "colab": {
          "base_uri": "https://localhost:8080/"
        },
        "id": "RDIP19Mw9Zmr",
        "outputId": "69884b13-e3fc-4597-d061-363828cbfef3"
      },
      "execution_count": 104,
      "outputs": [
        {
          "output_type": "stream",
          "name": "stdout",
          "text": [
            "(((A) == (D)) & ((B) == (C))) & (((~((A) == (B))) & ((B) == (C))) & ((C) == (D)))\n",
            "valid: (False, {'C': False, 'B': False, 'D': False, 'A': False})\n",
            "satisfable: (False, None)\n",
            "contadictory: (True, None)\n",
            "falsifiable: (True, {'C': False, 'B': False, 'D': False, 'A': False})\n",
            "all true valuations: \n"
          ]
        }
      ]
    },
    {
      "cell_type": "code",
      "source": [
        "'''\n",
        "Tri polja se boje crvenom ili plavom. \n",
        "Ukoliko je prvo crveno, druga dva moraju biti iste boje.\n",
        "Ukoliko je drugo crveno, trece mora biti plavo.\n",
        "'''\n",
        "\n",
        "A, B, C = vars(\"A,B,C\")\n",
        "\n",
        "formula = (A >> (B == C)) & (B >> ~C)\n",
        "evaluate_formula(formula )"
      ],
      "metadata": {
        "colab": {
          "base_uri": "https://localhost:8080/"
        },
        "id": "7PkaaBWT91uE",
        "outputId": "f4d67f2e-bace-4bdb-be36-8229422bcf06"
      },
      "execution_count": 105,
      "outputs": [
        {
          "output_type": "stream",
          "name": "stdout",
          "text": [
            "((A) >> ((B) == (C))) & ((B) >> (~(C)))\n",
            "valid: (False, {'B': True, 'C': True, 'A': False})\n",
            "satisfable: (True, {'B': False, 'C': False, 'A': False})\n",
            "contadictory: (False, {'B': False, 'C': False, 'A': False})\n",
            "falsifiable: (True, {'B': True, 'C': True, 'A': False})\n",
            "all true valuations: \n",
            "{'B': False, 'C': False, 'A': False}\n",
            "{'B': True, 'C': False, 'A': False}\n",
            "{'B': False, 'C': True, 'A': False}\n",
            "{'B': False, 'C': False, 'A': True}\n"
          ]
        }
      ]
    }
  ]
}