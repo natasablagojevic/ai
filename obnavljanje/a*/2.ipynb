{
 "cells": [
  {
   "cell_type": "code",
   "execution_count": 2,
   "metadata": {},
   "outputs": [],
   "source": [
    "import sys \n",
    "import os \n",
    "import pandas as pd\n",
    "import json"
   ]
  },
  {
   "cell_type": "code",
   "execution_count": 4,
   "metadata": {},
   "outputs": [],
   "source": [
    "try: \n",
    "    with open('./cities.json', 'r') as f:\n",
    "        lista_susedstva = dict(json.load(f))\n",
    "        \n",
    "except: \n",
    "    sys.exit(\"Greska! Datoteka ne postoji\")"
   ]
  },
  {
   "cell_type": "code",
   "execution_count": 5,
   "metadata": {},
   "outputs": [
    {
     "data": {
      "text/plain": [
       "{'Oradea': [['Zerind', 71], ['Sibiu', 151]],\n",
       " 'Zerind': [['Arad', 75], ['Oradea', 71]],\n",
       " 'Arad': [['Sibiu', 140], ['Timisoara', 118], ['Zerind', 75]],\n",
       " 'Timisoara': [['Lugoj', 111], ['Arad', 118]],\n",
       " 'Lugoj': [['Mehadia', 70], ['Timisoara', 111]],\n",
       " 'Mehadia': [['Drobeta', 75], ['Lugoj', 70]],\n",
       " 'Drobeta': [['Craiova', 120], ['Mehadia', 75]],\n",
       " 'Sibiu': [['Fagaras', 99],\n",
       "  ['Rimnicu Vilacea', 80],\n",
       "  ['Arad', 140],\n",
       "  ['Oradea', 151]],\n",
       " 'Fagaras': [['Buchares', 211], ['Sibiu', 99]],\n",
       " 'Rimnicu Vilacea': [['Sibiu', 80], ['Pitesti', 97], ['Craiova', 146]],\n",
       " 'Pitesti': [['Rimnicu Vilacea', 97], ['Craiova', 138], ['Buchares', 101]],\n",
       " 'Craiova': [['Rimnicu Vilacea', 146], ['Pitesti', 138], ['Drobeta', 120]],\n",
       " 'Buchares': [['Fagaras', 211], ['Pitesti', 101], ['Urziceni', 85]],\n",
       " 'Urziceni': [['Buchares', 85], ['Hirsova', 98], ['Vaslui', 142]],\n",
       " 'Vaslui': [['Urziceni', 98], ['Lasi', 92]],\n",
       " 'Lasi': [['Vaslui', 92], ['Neamt', 87]],\n",
       " 'Neamt': [['Lasi', 87]],\n",
       " 'Hirsova': [['Urziceni', 98]]}"
      ]
     },
     "execution_count": 5,
     "metadata": {},
     "output_type": "execute_result"
    }
   ],
   "source": [
    "lista_susedstva"
   ]
  },
  {
   "cell_type": "code",
   "execution_count": null,
   "metadata": {},
   "outputs": [],
   "source": [
    "def astar(lista_suedstva, pocetak, kraj, h):\n",
    "  otvorena_lista = set([pocetak])\n",
    "  \n",
    "  roditelji = {}\n",
    "  roditelji[pocetak] = None \n",
    "  \n",
    "  udaljenost = {v: float('inf') for v in lista_suedstva}\n",
    "  udaljenost[pocetak] = 0\n",
    "  \n",
    "  heuristicka_procena = {v: float('inf') for v in lista_suedstva}\n",
    "  heuristicka_procena[pocetak] = h(pocetak)\n",
    "  \n",
    "  pronadjen_put = False \n",
    "  \n",
    "  while len(otvorena_lista) > 0: \n",
    "    tmp = sledeci_cvor(otvorena_lista, heuristicka_procena)\n",
    "    \n",
    "    if tmp == kraj:\n",
    "      pronadjen_put = True \n",
    "      break \n",
    "    \n",
    "    otvorena_lista.remove(tmp)\n",
    "    \n",
    "    for sused, tezina in lista_suedstva[tmp]:\n",
    "      nova_udaljeost = udaljenost[sused] + tezina \n",
    "      \n",
    "      if udaljenost[sused] > nova_udaljeost:\n",
    "        udaljenost[sused] = nova_udaljeost\n",
    "        roditelji[sused] = tmp \n",
    "        heuristicka_procena[sused] = nova_udaljeost + h(sused)\n",
    "        \n",
    "  put = []\n",
    "  while kraj is not None:\n",
    "    put.append(kraj)\n",
    "    kraj = roditelji[kraj]\n",
    "    \n",
    "  put.reverse()\n",
    "  \n",
    "  return put"
   ]
  },
  {
   "cell_type": "code",
   "execution_count": null,
   "metadata": {},
   "outputs": [],
   "source": [
    "def sledeci_cvor(otvorena_lista, heuristicka_procena):\n",
    "  v = None \n",
    "  min_d = float('inf')\n",
    "\n",
    "  for cvor in otvorena_lista:\n",
    "    if cvor in heuristicka_procena:\n",
    "      p = heuristicka_procena[cvor] \n",
    "      \n",
    "      if p < min_d:\n",
    "        min_d = p \n",
    "        v = cvor \n",
    "        \n",
    "  return v\n",
    "        "
   ]
  }
 ],
 "metadata": {
  "kernelspec": {
   "display_name": "base",
   "language": "python",
   "name": "python3"
  },
  "language_info": {
   "codemirror_mode": {
    "name": "ipython",
    "version": 3
   },
   "file_extension": ".py",
   "mimetype": "text/x-python",
   "name": "python",
   "nbconvert_exporter": "python",
   "pygments_lexer": "ipython3",
   "version": "3.9.13"
  },
  "orig_nbformat": 4
 },
 "nbformat": 4,
 "nbformat_minor": 2
}
