{
 "cells": [
  {
   "cell_type": "code",
   "execution_count": 3,
   "metadata": {},
   "outputs": [],
   "source": [
    "import tensorflow as tf \n",
    "from tensorflow import keras\n",
    "import matplotlib.pyplot as plt \n",
    "import seaborn as sns \n",
    "import numpy as np "
   ]
  },
  {
   "cell_type": "code",
   "execution_count": 4,
   "metadata": {},
   "outputs": [],
   "source": [
    "(train_images, train_labels), (test_images, test_labels) = tf.keras.datasets.fashion_mnist.load_data()"
   ]
  },
  {
   "cell_type": "code",
   "execution_count": 5,
   "metadata": {},
   "outputs": [
    {
     "data": {
      "text/plain": [
       "(0, 255)"
      ]
     },
     "execution_count": 5,
     "metadata": {},
     "output_type": "execute_result"
    }
   ],
   "source": [
    "train_images.min(), train_images.max()"
   ]
  },
  {
   "cell_type": "code",
   "execution_count": 6,
   "metadata": {},
   "outputs": [
    {
     "data": {
      "text/plain": [
       "(0, 255)"
      ]
     },
     "execution_count": 6,
     "metadata": {},
     "output_type": "execute_result"
    }
   ],
   "source": [
    "test_images.min(), test_images.max()"
   ]
  },
  {
   "cell_type": "code",
   "execution_count": 7,
   "metadata": {},
   "outputs": [],
   "source": [
    "train_images = train_images / 255.0 \n",
    "test_images = test_images / 255.0 "
   ]
  },
  {
   "cell_type": "code",
   "execution_count": 9,
   "metadata": {},
   "outputs": [
    {
     "data": {
      "text/plain": [
       "array([0, 1, 2, 3, 4, 5, 6, 7, 8, 9], dtype=uint8)"
      ]
     },
     "execution_count": 9,
     "metadata": {},
     "output_type": "execute_result"
    }
   ],
   "source": [
    "np.unique(train_labels)"
   ]
  },
  {
   "cell_type": "code",
   "execution_count": 10,
   "metadata": {},
   "outputs": [],
   "source": [
    "train_labels_cat = tf.keras.utils.to_categorical(train_labels)\n",
    "test_labels_cat = tf.keras.utils.to_categorical(test_labels)"
   ]
  },
  {
   "cell_type": "code",
   "execution_count": 13,
   "metadata": {},
   "outputs": [
    {
     "data": {
      "text/plain": [
       "(60000, 28, 28)"
      ]
     },
     "execution_count": 13,
     "metadata": {},
     "output_type": "execute_result"
    }
   ],
   "source": [
    "train_images.shape"
   ]
  },
  {
   "cell_type": "code",
   "execution_count": 22,
   "metadata": {},
   "outputs": [],
   "source": [
    "model = tf.keras.models.Sequential()\n",
    "\n",
    "model.add(keras.layers.Flatten(input_shape=(28,28)))\n",
    "model.add(keras.layers.Dense(64, activation='relu'))\n",
    "model.add(keras.layers.Dense(128, activation='relu'))\n",
    "# model.add(keras.layers.Dense(256, activation='relu'))\n",
    "model.add(keras.layers.Dense(10, activation='softmax'))\n",
    "\n"
   ]
  },
  {
   "cell_type": "code",
   "execution_count": 24,
   "metadata": {},
   "outputs": [],
   "source": [
    "model.compile(optimizer='adam', loss=tf.keras.losses.CategoricalCrossentropy(), metrics=['accuracy'])"
   ]
  },
  {
   "cell_type": "code",
   "execution_count": 28,
   "metadata": {},
   "outputs": [
    {
     "name": "stderr",
     "output_type": "stream",
     "text": [
      "2023-06-11 17:07:15.984591: W tensorflow/tsl/framework/cpu_allocator_impl.cc:83] Allocation of 150528000 exceeds 10% of free system memory.\n"
     ]
    },
    {
     "name": "stdout",
     "output_type": "stream",
     "text": [
      "Epoch 1/15\n",
      "1500/1500 - 17s - loss: 0.3465 - accuracy: 0.8718 - val_loss: 0.3522 - val_accuracy: 0.8731 - 17s/epoch - 12ms/step\n",
      "Epoch 2/15\n",
      "1500/1500 - 13s - loss: 0.3273 - accuracy: 0.8798 - val_loss: 0.3485 - val_accuracy: 0.8723 - 13s/epoch - 9ms/step\n",
      "Epoch 3/15\n",
      "1500/1500 - 11s - loss: 0.3104 - accuracy: 0.8848 - val_loss: 0.3431 - val_accuracy: 0.8742 - 11s/epoch - 8ms/step\n",
      "Epoch 4/15\n",
      "1500/1500 - 12s - loss: 0.2941 - accuracy: 0.8911 - val_loss: 0.3241 - val_accuracy: 0.8818 - 12s/epoch - 8ms/step\n",
      "Epoch 5/15\n",
      "1500/1500 - 23s - loss: 0.2784 - accuracy: 0.8969 - val_loss: 0.3262 - val_accuracy: 0.8823 - 23s/epoch - 15ms/step\n",
      "Epoch 6/15\n",
      "1500/1500 - 21s - loss: 0.2681 - accuracy: 0.8997 - val_loss: 0.3222 - val_accuracy: 0.8846 - 21s/epoch - 14ms/step\n",
      "Epoch 7/15\n",
      "1500/1500 - 23s - loss: 0.2605 - accuracy: 0.9020 - val_loss: 0.3397 - val_accuracy: 0.8762 - 23s/epoch - 15ms/step\n",
      "Epoch 8/15\n",
      "1500/1500 - 22s - loss: 0.2477 - accuracy: 0.9060 - val_loss: 0.3229 - val_accuracy: 0.8862 - 22s/epoch - 15ms/step\n",
      "Epoch 9/15\n",
      "1500/1500 - 25s - loss: 0.2406 - accuracy: 0.9081 - val_loss: 0.3172 - val_accuracy: 0.8905 - 25s/epoch - 16ms/step\n",
      "Epoch 10/15\n",
      "1500/1500 - 16s - loss: 0.2309 - accuracy: 0.9117 - val_loss: 0.3415 - val_accuracy: 0.8800 - 16s/epoch - 11ms/step\n",
      "Epoch 11/15\n",
      "1500/1500 - 12s - loss: 0.2260 - accuracy: 0.9149 - val_loss: 0.3266 - val_accuracy: 0.8863 - 12s/epoch - 8ms/step\n",
      "Epoch 12/15\n",
      "1500/1500 - 11s - loss: 0.2189 - accuracy: 0.9175 - val_loss: 0.3294 - val_accuracy: 0.8861 - 11s/epoch - 7ms/step\n",
      "Epoch 13/15\n",
      "1500/1500 - 11s - loss: 0.2145 - accuracy: 0.9184 - val_loss: 0.3505 - val_accuracy: 0.8825 - 11s/epoch - 7ms/step\n",
      "Epoch 14/15\n",
      "1500/1500 - 11s - loss: 0.2073 - accuracy: 0.9216 - val_loss: 0.3454 - val_accuracy: 0.8857 - 11s/epoch - 7ms/step\n",
      "Epoch 15/15\n",
      "1500/1500 - 11s - loss: 0.2015 - accuracy: 0.9225 - val_loss: 0.3348 - val_accuracy: 0.8889 - 11s/epoch - 7ms/step\n"
     ]
    }
   ],
   "source": [
    "EPOCHS = 15 \n",
    "\n",
    "history = model.fit(train_images, train_labels_cat, verbose=2, validation_split=0.2, epochs=EPOCHS)"
   ]
  },
  {
   "cell_type": "code",
   "execution_count": 29,
   "metadata": {},
   "outputs": [
    {
     "name": "stdout",
     "output_type": "stream",
     "text": [
      "313/313 [==============================] - 2s 7ms/step - loss: 0.3690 - accuracy: 0.8864\n"
     ]
    },
    {
     "data": {
      "text/plain": [
       "[0.36896950006484985, 0.8863999843597412]"
      ]
     },
     "execution_count": 29,
     "metadata": {},
     "output_type": "execute_result"
    }
   ],
   "source": [
    "model.evaluate(test_images, test_labels_cat)"
   ]
  },
  {
   "cell_type": "code",
   "execution_count": 32,
   "metadata": {},
   "outputs": [
    {
     "data": {
      "text/plain": [
       "(0.5, 1.0)"
      ]
     },
     "execution_count": 32,
     "metadata": {},
     "output_type": "execute_result"
    },
    {
     "data": {
      "image/png": "[encoded data removed]",
      "text/plain": [
       "<Figure size 640x480 with 1 Axes>"
      ]
     },
     "metadata": {},
     "output_type": "display_data"
    }
   ],
   "source": [
    "plt.plot(history.history['accuracy'])\n",
    "plt.plot(history.history['val_accuracy'])\n",
    "plt.xlabel('EPOCHS')\n",
    "plt.ylabel('ACCURACY')\n",
    "plt.ylim([0.5, 1])"
   ]
  }
 ],
 "metadata": {
  "kernelspec": {
   "display_name": "base",
   "language": "python",
   "name": "python3"
  },
  "language_info": {
   "codemirror_mode": {
    "name": "ipython",
    "version": 3
   },
   "file_extension": ".py",
   "mimetype": "text/x-python",
   "name": "python",
   "nbconvert_exporter": "python",
   "pygments_lexer": "ipython3",
   "version": "3.9.13"
  },
  "orig_nbformat": 4
 },
 "nbformat": 4,
 "nbformat_minor": 2
}
