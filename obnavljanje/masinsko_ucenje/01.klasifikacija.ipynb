{
 "cells": [
  {
   "cell_type": "code",
   "execution_count": 18,
   "metadata": {},
   "outputs": [],
   "source": [
    "import tensorflow as tf \n",
    "from tensorflow import keras \n",
    "from tensorflow.keras import layers, datasets, models \n",
    "import matplotlib.pyplot as plt \n",
    "import seaborn as sns \n",
    "import numpy as np \n",
    "import pandas as pd \n"
   ]
  },
  {
   "cell_type": "code",
   "execution_count": 8,
   "metadata": {},
   "outputs": [],
   "source": [
    "(train_images, train_labels), (test_images, test_labels) = tf.keras.datasets.fashion_mnist.load_data()"
   ]
  },
  {
   "attachments": {},
   "cell_type": "markdown",
   "metadata": {},
   "source": [
    "- imamo 60.000 slika, velicine 28x28"
   ]
  },
  {
   "cell_type": "code",
   "execution_count": 9,
   "metadata": {},
   "outputs": [
    {
     "data": {
      "text/plain": [
       "(60000, 28, 28)"
      ]
     },
     "execution_count": 9,
     "metadata": {},
     "output_type": "execute_result"
    }
   ],
   "source": [
    "train_images.shape"
   ]
  },
  {
   "cell_type": "code",
   "execution_count": 12,
   "metadata": {},
   "outputs": [
    {
     "data": {
      "text/plain": [
       "(255, 0)"
      ]
     },
     "execution_count": 12,
     "metadata": {},
     "output_type": "execute_result"
    }
   ],
   "source": [
    "train_images.max(), train_images.min()"
   ]
  },
  {
   "cell_type": "code",
   "execution_count": 13,
   "metadata": {},
   "outputs": [],
   "source": [
    "train_images = train_images/255.0\n",
    "test_images = test_images/255.0"
   ]
  },
  {
   "cell_type": "code",
   "execution_count": 14,
   "metadata": {},
   "outputs": [
    {
     "data": {
      "text/plain": [
       "(0.0, 1.0)"
      ]
     },
     "execution_count": 14,
     "metadata": {},
     "output_type": "execute_result"
    }
   ],
   "source": [
    "test_images.min(), test_images.max()"
   ]
  },
  {
   "cell_type": "code",
   "execution_count": 15,
   "metadata": {},
   "outputs": [
    {
     "data": {
      "text/plain": [
       "(0.0, 1.0)"
      ]
     },
     "execution_count": 15,
     "metadata": {},
     "output_type": "execute_result"
    }
   ],
   "source": [
    "train_images.min(), train_images.max()"
   ]
  },
  {
   "cell_type": "code",
   "execution_count": 16,
   "metadata": {},
   "outputs": [],
   "source": [
    "class_names = ['T-shirt/top', 'Trousers', 'Pullover', 'Dress', 'Coat', 'Sandal', 'Shirt', 'Sneaker', 'Bag', 'Ankle boot']"
   ]
  },
  {
   "cell_type": "code",
   "execution_count": 20,
   "metadata": {},
   "outputs": [],
   "source": [
    "model = models.Sequential([\n",
    "    layers.Flatten(input_shape=(28,28)),\n",
    "    layers.Dense(128, activation='relu'),\n",
    "    layers.Dense(10, activation='softmax')\n",
    "])\n",
    "\n",
    "# model.add(layers.Flatten(input_shape=(28,28), activation='relu'))\n",
    "# model.add(layers.Dense(128, activation='relu'))\n",
    "# model.add(layers.Dense(10, activation='softmax'))"
   ]
  },
  {
   "cell_type": "code",
   "execution_count": 35,
   "metadata": {},
   "outputs": [
    {
     "name": "stdout",
     "output_type": "stream",
     "text": [
      "Epoch 1/85\n"
     ]
    },
    {
     "name": "stderr",
     "output_type": "stream",
     "text": [
      "2023-06-04 19:49:27.129687: W tensorflow/tsl/framework/cpu_allocator_impl.cc:83] Allocation of 188160000 exceeds 10% of free system memory.\n"
     ]
    },
    {
     "name": "stdout",
     "output_type": "stream",
     "text": [
      "1875/1875 [==============================] - 27s 13ms/step - loss: 0.1417 - accuracy: 0.9471 - val_loss: 0.4190 - val_accuracy: 0.8875\n",
      "Epoch 2/85\n",
      "1875/1875 [==============================] - 25s 13ms/step - loss: 0.1375 - accuracy: 0.9485 - val_loss: 0.4144 - val_accuracy: 0.8900\n",
      "Epoch 3/85\n",
      "1875/1875 [==============================] - 25s 13ms/step - loss: 0.1382 - accuracy: 0.9478 - val_loss: 0.4274 - val_accuracy: 0.8891\n",
      "Epoch 4/85\n",
      "1875/1875 [==============================] - 26s 14ms/step - loss: 0.1311 - accuracy: 0.9510 - val_loss: 0.4529 - val_accuracy: 0.8877\n",
      "Epoch 5/85\n",
      "1875/1875 [==============================] - 25s 13ms/step - loss: 0.1311 - accuracy: 0.9509 - val_loss: 0.4258 - val_accuracy: 0.8897\n",
      "Epoch 6/85\n",
      "1875/1875 [==============================] - 26s 14ms/step - loss: 0.1287 - accuracy: 0.9519 - val_loss: 0.4236 - val_accuracy: 0.8904\n",
      "Epoch 7/85\n",
      "1875/1875 [==============================] - 26s 14ms/step - loss: 0.1259 - accuracy: 0.9538 - val_loss: 0.4606 - val_accuracy: 0.8866\n",
      "Epoch 8/85\n",
      "1875/1875 [==============================] - 27s 14ms/step - loss: 0.1229 - accuracy: 0.9540 - val_loss: 0.4400 - val_accuracy: 0.8928\n",
      "Epoch 9/85\n",
      "1875/1875 [==============================] - 26s 14ms/step - loss: 0.1223 - accuracy: 0.9542 - val_loss: 0.4628 - val_accuracy: 0.8903\n",
      "Epoch 10/85\n",
      "1875/1875 [==============================] - 27s 14ms/step - loss: 0.1177 - accuracy: 0.9562 - val_loss: 0.4514 - val_accuracy: 0.8848\n",
      "Epoch 11/85\n",
      "1875/1875 [==============================] - 27s 14ms/step - loss: 0.1176 - accuracy: 0.9556 - val_loss: 0.4693 - val_accuracy: 0.8882\n",
      "Epoch 12/85\n",
      "1875/1875 [==============================] - 27s 14ms/step - loss: 0.1144 - accuracy: 0.9560 - val_loss: 0.4823 - val_accuracy: 0.8841\n",
      "Epoch 13/85\n",
      "1875/1875 [==============================] - 27s 14ms/step - loss: 0.1123 - accuracy: 0.9577 - val_loss: 0.4562 - val_accuracy: 0.8951\n",
      "Epoch 14/85\n",
      "1875/1875 [==============================] - 27s 15ms/step - loss: 0.1130 - accuracy: 0.9578 - val_loss: 0.4682 - val_accuracy: 0.8895\n",
      "Epoch 15/85\n",
      "1875/1875 [==============================] - 27s 14ms/step - loss: 0.1068 - accuracy: 0.9589 - val_loss: 0.4918 - val_accuracy: 0.8837\n",
      "Epoch 16/85\n",
      "1875/1875 [==============================] - 28s 15ms/step - loss: 0.1077 - accuracy: 0.9597 - val_loss: 0.4741 - val_accuracy: 0.8910\n",
      "Epoch 17/85\n",
      "1875/1875 [==============================] - 29s 15ms/step - loss: 0.1055 - accuracy: 0.9608 - val_loss: 0.4988 - val_accuracy: 0.8838\n",
      "Epoch 18/85\n",
      "1875/1875 [==============================] - 27s 15ms/step - loss: 0.1049 - accuracy: 0.9605 - val_loss: 0.4814 - val_accuracy: 0.8921\n",
      "Epoch 19/85\n",
      "1875/1875 [==============================] - 28s 15ms/step - loss: 0.1041 - accuracy: 0.9612 - val_loss: 0.4976 - val_accuracy: 0.8924\n",
      "Epoch 20/85\n",
      "1875/1875 [==============================] - 28s 15ms/step - loss: 0.0985 - accuracy: 0.9640 - val_loss: 0.5026 - val_accuracy: 0.8889\n",
      "Epoch 21/85\n",
      "1875/1875 [==============================] - 28s 15ms/step - loss: 0.0990 - accuracy: 0.9636 - val_loss: 0.4945 - val_accuracy: 0.8905\n",
      "Epoch 22/85\n",
      "1875/1875 [==============================] - 27s 14ms/step - loss: 0.0983 - accuracy: 0.9628 - val_loss: 0.5189 - val_accuracy: 0.8881\n",
      "Epoch 23/85\n",
      "1875/1875 [==============================] - 27s 15ms/step - loss: 0.0967 - accuracy: 0.9639 - val_loss: 0.5217 - val_accuracy: 0.8869\n",
      "Epoch 24/85\n",
      "1875/1875 [==============================] - 27s 15ms/step - loss: 0.0951 - accuracy: 0.9638 - val_loss: 0.5299 - val_accuracy: 0.8859\n",
      "Epoch 25/85\n",
      "1875/1875 [==============================] - 28s 15ms/step - loss: 0.0936 - accuracy: 0.9651 - val_loss: 0.5311 - val_accuracy: 0.8927\n",
      "Epoch 26/85\n",
      "1875/1875 [==============================] - 29s 15ms/step - loss: 0.0927 - accuracy: 0.9656 - val_loss: 0.5372 - val_accuracy: 0.8906\n",
      "Epoch 27/85\n",
      "1875/1875 [==============================] - 28s 15ms/step - loss: 0.0893 - accuracy: 0.9662 - val_loss: 0.5440 - val_accuracy: 0.8889\n",
      "Epoch 28/85\n",
      "1875/1875 [==============================] - 28s 15ms/step - loss: 0.0890 - accuracy: 0.9674 - val_loss: 0.5427 - val_accuracy: 0.8899\n",
      "Epoch 29/85\n",
      "1875/1875 [==============================] - 28s 15ms/step - loss: 0.0880 - accuracy: 0.9675 - val_loss: 0.5597 - val_accuracy: 0.8874\n",
      "Epoch 30/85\n",
      "1875/1875 [==============================] - 29s 15ms/step - loss: 0.0870 - accuracy: 0.9670 - val_loss: 0.5862 - val_accuracy: 0.8857\n",
      "Epoch 31/85\n",
      "1875/1875 [==============================] - 27s 15ms/step - loss: 0.0840 - accuracy: 0.9683 - val_loss: 0.5451 - val_accuracy: 0.8879\n",
      "Epoch 32/85\n",
      "1875/1875 [==============================] - 27s 15ms/step - loss: 0.0840 - accuracy: 0.9682 - val_loss: 0.5626 - val_accuracy: 0.8918\n",
      "Epoch 33/85\n",
      "1875/1875 [==============================] - 28s 15ms/step - loss: 0.0839 - accuracy: 0.9684 - val_loss: 0.5865 - val_accuracy: 0.8851\n",
      "Epoch 34/85\n",
      "1875/1875 [==============================] - 27s 15ms/step - loss: 0.0824 - accuracy: 0.9689 - val_loss: 0.5943 - val_accuracy: 0.8871\n",
      "Epoch 35/85\n",
      "1875/1875 [==============================] - 28s 15ms/step - loss: 0.0811 - accuracy: 0.9701 - val_loss: 0.5871 - val_accuracy: 0.8892\n",
      "Epoch 36/85\n",
      "1875/1875 [==============================] - 28s 15ms/step - loss: 0.0806 - accuracy: 0.9691 - val_loss: 0.6004 - val_accuracy: 0.8841\n",
      "Epoch 37/85\n",
      "1875/1875 [==============================] - 28s 15ms/step - loss: 0.0795 - accuracy: 0.9708 - val_loss: 0.5993 - val_accuracy: 0.8899\n",
      "Epoch 38/85\n",
      "1875/1875 [==============================] - 28s 15ms/step - loss: 0.0770 - accuracy: 0.9712 - val_loss: 0.6386 - val_accuracy: 0.8866\n",
      "Epoch 39/85\n",
      "1875/1875 [==============================] - 29s 15ms/step - loss: 0.0758 - accuracy: 0.9719 - val_loss: 0.6170 - val_accuracy: 0.8858\n",
      "Epoch 40/85\n",
      "1875/1875 [==============================] - 28s 15ms/step - loss: 0.0765 - accuracy: 0.9711 - val_loss: 0.6040 - val_accuracy: 0.8901\n",
      "Epoch 41/85\n",
      "1875/1875 [==============================] - 28s 15ms/step - loss: 0.0734 - accuracy: 0.9721 - val_loss: 0.6351 - val_accuracy: 0.8870\n",
      "Epoch 42/85\n",
      "1875/1875 [==============================] - 29s 15ms/step - loss: 0.0744 - accuracy: 0.9720 - val_loss: 0.6241 - val_accuracy: 0.8897\n",
      "Epoch 43/85\n",
      "1875/1875 [==============================] - 27s 15ms/step - loss: 0.0745 - accuracy: 0.9717 - val_loss: 0.6498 - val_accuracy: 0.8827\n",
      "Epoch 44/85\n",
      "1875/1875 [==============================] - 28s 15ms/step - loss: 0.0705 - accuracy: 0.9734 - val_loss: 0.6592 - val_accuracy: 0.8862\n",
      "Epoch 45/85\n",
      "1875/1875 [==============================] - 28s 15ms/step - loss: 0.0724 - accuracy: 0.9730 - val_loss: 0.6507 - val_accuracy: 0.8871\n",
      "Epoch 46/85\n",
      "1875/1875 [==============================] - 28s 15ms/step - loss: 0.0676 - accuracy: 0.9747 - val_loss: 0.6795 - val_accuracy: 0.8887\n",
      "Epoch 47/85\n",
      "1875/1875 [==============================] - 28s 15ms/step - loss: 0.0702 - accuracy: 0.9735 - val_loss: 0.6533 - val_accuracy: 0.8893\n",
      "Epoch 48/85\n",
      "1875/1875 [==============================] - 28s 15ms/step - loss: 0.0688 - accuracy: 0.9747 - val_loss: 0.6601 - val_accuracy: 0.8853\n",
      "Epoch 49/85\n",
      "1875/1875 [==============================] - 28s 15ms/step - loss: 0.0662 - accuracy: 0.9760 - val_loss: 0.6578 - val_accuracy: 0.8920\n",
      "Epoch 50/85\n",
      "1875/1875 [==============================] - 27s 15ms/step - loss: 0.0670 - accuracy: 0.9752 - val_loss: 0.6679 - val_accuracy: 0.8898\n",
      "Epoch 51/85\n",
      "1875/1875 [==============================] - 28s 15ms/step - loss: 0.0663 - accuracy: 0.9754 - val_loss: 0.6872 - val_accuracy: 0.8844\n",
      "Epoch 52/85\n",
      "1875/1875 [==============================] - 28s 15ms/step - loss: 0.0652 - accuracy: 0.9757 - val_loss: 0.7056 - val_accuracy: 0.8813\n",
      "Epoch 53/85\n",
      "1875/1875 [==============================] - 28s 15ms/step - loss: 0.0625 - accuracy: 0.9766 - val_loss: 0.7123 - val_accuracy: 0.8848\n",
      "Epoch 54/85\n",
      "1875/1875 [==============================] - 27s 15ms/step - loss: 0.0655 - accuracy: 0.9757 - val_loss: 0.7060 - val_accuracy: 0.8894\n",
      "Epoch 55/85\n",
      "1875/1875 [==============================] - 28s 15ms/step - loss: 0.0628 - accuracy: 0.9768 - val_loss: 0.7126 - val_accuracy: 0.8853\n",
      "Epoch 56/85\n",
      "1875/1875 [==============================] - 28s 15ms/step - loss: 0.0616 - accuracy: 0.9769 - val_loss: 0.7543 - val_accuracy: 0.8846\n",
      "Epoch 57/85\n",
      "1875/1875 [==============================] - 29s 15ms/step - loss: 0.0644 - accuracy: 0.9764 - val_loss: 0.6911 - val_accuracy: 0.8917\n",
      "Epoch 58/85\n",
      "1875/1875 [==============================] - 28s 15ms/step - loss: 0.0617 - accuracy: 0.9765 - val_loss: 0.7223 - val_accuracy: 0.8899\n",
      "Epoch 59/85\n",
      "1875/1875 [==============================] - 28s 15ms/step - loss: 0.0615 - accuracy: 0.9775 - val_loss: 0.6986 - val_accuracy: 0.8912\n",
      "Epoch 60/85\n",
      "1875/1875 [==============================] - 28s 15ms/step - loss: 0.0582 - accuracy: 0.9784 - val_loss: 0.7331 - val_accuracy: 0.8841\n",
      "Epoch 61/85\n",
      "1875/1875 [==============================] - 28s 15ms/step - loss: 0.0586 - accuracy: 0.9782 - val_loss: 0.7528 - val_accuracy: 0.8864\n",
      "Epoch 62/85\n",
      "1875/1875 [==============================] - 29s 15ms/step - loss: 0.0553 - accuracy: 0.9792 - val_loss: 0.7939 - val_accuracy: 0.8874\n",
      "Epoch 63/85\n",
      "1875/1875 [==============================] - 27s 15ms/step - loss: 0.0617 - accuracy: 0.9773 - val_loss: 0.7264 - val_accuracy: 0.8895\n",
      "Epoch 64/85\n",
      "1875/1875 [==============================] - 28s 15ms/step - loss: 0.0547 - accuracy: 0.9800 - val_loss: 0.7696 - val_accuracy: 0.8873\n",
      "Epoch 65/85\n",
      "1875/1875 [==============================] - 28s 15ms/step - loss: 0.0589 - accuracy: 0.9780 - val_loss: 0.7464 - val_accuracy: 0.8874\n",
      "Epoch 66/85\n",
      "1875/1875 [==============================] - 28s 15ms/step - loss: 0.0570 - accuracy: 0.9790 - val_loss: 0.7848 - val_accuracy: 0.8877\n",
      "Epoch 67/85\n",
      "1875/1875 [==============================] - 28s 15ms/step - loss: 0.0570 - accuracy: 0.9790 - val_loss: 0.7645 - val_accuracy: 0.8855\n",
      "Epoch 68/85\n",
      "1875/1875 [==============================] - 28s 15ms/step - loss: 0.0528 - accuracy: 0.9801 - val_loss: 0.7754 - val_accuracy: 0.8904\n",
      "Epoch 69/85\n",
      "1875/1875 [==============================] - 29s 15ms/step - loss: 0.0556 - accuracy: 0.9793 - val_loss: 0.7844 - val_accuracy: 0.8858\n",
      "Epoch 70/85\n",
      "1875/1875 [==============================] - 28s 15ms/step - loss: 0.0539 - accuracy: 0.9801 - val_loss: 0.8229 - val_accuracy: 0.8839\n",
      "Epoch 71/85\n",
      "1875/1875 [==============================] - 28s 15ms/step - loss: 0.0531 - accuracy: 0.9804 - val_loss: 0.8248 - val_accuracy: 0.8848\n",
      "Epoch 72/85\n",
      "1875/1875 [==============================] - 27s 14ms/step - loss: 0.0532 - accuracy: 0.9805 - val_loss: 0.7469 - val_accuracy: 0.8858\n",
      "Epoch 73/85\n",
      "1875/1875 [==============================] - 26s 14ms/step - loss: 0.0508 - accuracy: 0.9806 - val_loss: 0.8044 - val_accuracy: 0.8874\n",
      "Epoch 74/85\n",
      "1875/1875 [==============================] - 25s 13ms/step - loss: 0.0537 - accuracy: 0.9806 - val_loss: 0.8174 - val_accuracy: 0.8884\n",
      "Epoch 75/85\n",
      "1875/1875 [==============================] - 26s 14ms/step - loss: 0.0492 - accuracy: 0.9812 - val_loss: 0.8248 - val_accuracy: 0.8854\n",
      "Epoch 76/85\n",
      "1875/1875 [==============================] - 26s 14ms/step - loss: 0.0524 - accuracy: 0.9806 - val_loss: 0.8157 - val_accuracy: 0.8873\n",
      "Epoch 77/85\n",
      "1875/1875 [==============================] - 26s 14ms/step - loss: 0.0474 - accuracy: 0.9823 - val_loss: 0.8428 - val_accuracy: 0.8882\n",
      "Epoch 78/85\n",
      "1875/1875 [==============================] - 26s 14ms/step - loss: 0.0535 - accuracy: 0.9801 - val_loss: 0.8367 - val_accuracy: 0.8858\n",
      "Epoch 79/85\n",
      "1875/1875 [==============================] - 26s 14ms/step - loss: 0.0447 - accuracy: 0.9831 - val_loss: 0.8762 - val_accuracy: 0.8840\n",
      "Epoch 80/85\n",
      "1875/1875 [==============================] - 25s 14ms/step - loss: 0.0504 - accuracy: 0.9812 - val_loss: 0.8461 - val_accuracy: 0.8876\n",
      "Epoch 81/85\n",
      "1875/1875 [==============================] - 27s 15ms/step - loss: 0.0470 - accuracy: 0.9827 - val_loss: 0.8576 - val_accuracy: 0.8879\n",
      "Epoch 82/85\n",
      "1875/1875 [==============================] - 27s 14ms/step - loss: 0.0465 - accuracy: 0.9820 - val_loss: 0.8487 - val_accuracy: 0.8856\n",
      "Epoch 83/85\n",
      "1875/1875 [==============================] - 25s 14ms/step - loss: 0.0442 - accuracy: 0.9833 - val_loss: 0.9176 - val_accuracy: 0.8815\n",
      "Epoch 84/85\n",
      "1875/1875 [==============================] - 25s 13ms/step - loss: 0.0473 - accuracy: 0.9823 - val_loss: 0.8686 - val_accuracy: 0.8876\n",
      "Epoch 85/85\n",
      "1875/1875 [==============================] - 26s 14ms/step - loss: 0.0493 - accuracy: 0.9822 - val_loss: 0.8614 - val_accuracy: 0.8870\n"
     ]
    }
   ],
   "source": [
    "train_labels_cat = tf.keras.utils.to_categorical(train_labels)\n",
    "test_labels_cat = tf.keras.utils.to_categorical(test_labels)\n",
    "\n",
    "epochs = 10\n",
    "class_size = len(class_names)\n",
    "\n",
    "model.compile(optimizer='adam', loss=keras.losses.CategoricalCrossentropy(), metrics=['accuracy'])\n",
    "\n",
    "\n",
    "history = model.fit(train_images, train_labels_cat, epochs=85, validation_data=(test_images, test_labels_cat))"
   ]
  },
  {
   "cell_type": "code",
   "execution_count": 36,
   "metadata": {},
   "outputs": [
    {
     "data": {
      "text/plain": [
       "<matplotlib.legend.Legend at 0x7f10506f7070>"
      ]
     },
     "execution_count": 36,
     "metadata": {},
     "output_type": "execute_result"
    },
    {
     "data": {
      "image/png": "[encoded data removed]",
      "text/plain": [
       "<Figure size 640x480 with 1 Axes>"
      ]
     },
     "metadata": {},
     "output_type": "display_data"
    }
   ],
   "source": [
    "plt.plot(history.history['accuracy'], label='accuracy')\n",
    "plt.plot(history.history['val_accuracy'], label='val_accuracy')\n",
    "plt.xlabel('Epochs')\n",
    "plt.ylabel('Accuracy')\n",
    "plt.ylim([0.5, 1])\n",
    "plt.legend(loc='lower right')"
   ]
  },
  {
   "cell_type": "code",
   "execution_count": 37,
   "metadata": {},
   "outputs": [
    {
     "name": "stdout",
     "output_type": "stream",
     "text": [
      "313/313 - 8s - loss: 0.8614 - accuracy: 0.8870 - 8s/epoch - 24ms/step\n",
      "[0.8614102602005005, 0.8870000243186951]\n"
     ]
    }
   ],
   "source": [
    "print(model.evaluate(test_images, test_labels_cat, verbose=2))"
   ]
  },
  {
   "cell_type": "code",
   "execution_count": 38,
   "metadata": {},
   "outputs": [
    {
     "name": "stdout",
     "output_type": "stream",
     "text": [
      "313/313 [==============================] - 14s 12ms/step\n"
     ]
    }
   ],
   "source": [
    "predictions = model.predict(test_images)"
   ]
  },
  {
   "cell_type": "code",
   "execution_count": 39,
   "metadata": {},
   "outputs": [
    {
     "data": {
      "text/plain": [
       "array([1.8587633e-37, 1.5111488e-34, 3.0098041e-23, 0.0000000e+00,\n",
       "       6.2789778e-31, 3.7651389e-11, 4.8489043e-33, 7.4080011e-13,\n",
       "       7.5208181e-27, 9.9999994e-01], dtype=float32)"
      ]
     },
     "execution_count": 39,
     "metadata": {},
     "output_type": "execute_result"
    }
   ],
   "source": [
    "predictions[0]"
   ]
  },
  {
   "cell_type": "code",
   "execution_count": 40,
   "metadata": {},
   "outputs": [
    {
     "data": {
      "text/plain": [
       "9"
      ]
     },
     "execution_count": 40,
     "metadata": {},
     "output_type": "execute_result"
    }
   ],
   "source": [
    "np.argmax(predictions[0])"
   ]
  },
  {
   "cell_type": "code",
   "execution_count": 42,
   "metadata": {},
   "outputs": [
    {
     "data": {
      "text/plain": [
       "9"
      ]
     },
     "execution_count": 42,
     "metadata": {},
     "output_type": "execute_result"
    }
   ],
   "source": [
    "test_labels[0]"
   ]
  }
 ],
 "metadata": {
  "kernelspec": {
   "display_name": "base",
   "language": "python",
   "name": "python3"
  },
  "language_info": {
   "codemirror_mode": {
    "name": "ipython",
    "version": 3
   },
   "file_extension": ".py",
   "mimetype": "text/x-python",
   "name": "python",
   "nbconvert_exporter": "python",
   "pygments_lexer": "ipython3",
   "version": "3.9.13"
  },
  "orig_nbformat": 4
 },
 "nbformat": 4,
 "nbformat_minor": 2
}
