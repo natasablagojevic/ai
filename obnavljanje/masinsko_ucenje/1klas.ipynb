{
 "cells": [
  {
   "cell_type": "code",
   "execution_count": 1,
   "metadata": {},
   "outputs": [
    {
     "name": "stderr",
     "output_type": "stream",
     "text": [
      "2023-06-11 21:37:24.825508: I tensorflow/tsl/cuda/cudart_stub.cc:28] Could not find cuda drivers on your machine, GPU will not be used.\n",
      "2023-06-11 21:37:31.616623: I tensorflow/tsl/cuda/cudart_stub.cc:28] Could not find cuda drivers on your machine, GPU will not be used.\n",
      "2023-06-11 21:38:00.842719: W tensorflow/compiler/tf2tensorrt/utils/py_utils.cc:38] TF-TRT Warning: Could not find TensorRT\n"
     ]
    }
   ],
   "source": [
    "import tensorflow as tf \n",
    "from tensorflow import keras \n",
    "from tensorflow.keras import models, datasets, layers \n",
    "import numpy as np \n",
    "import seaborn as sns "
   ]
  },
  {
   "cell_type": "code",
   "execution_count": 2,
   "metadata": {},
   "outputs": [],
   "source": [
    "(train_images, train_labels), (test_images, test_labels) = datasets.fashion_mnist.load_data()"
   ]
  },
  {
   "cell_type": "code",
   "execution_count": 5,
   "metadata": {},
   "outputs": [
    {
     "data": {
      "text/plain": [
       "(60000, 28, 28)"
      ]
     },
     "execution_count": 5,
     "metadata": {},
     "output_type": "execute_result"
    }
   ],
   "source": [
    "train_images.shape"
   ]
  },
  {
   "cell_type": "code",
   "execution_count": 3,
   "metadata": {},
   "outputs": [],
   "source": [
    "train_images = train_images / 255.0 \n",
    "test_images = test_images / 255.0"
   ]
  },
  {
   "cell_type": "code",
   "execution_count": 4,
   "metadata": {},
   "outputs": [],
   "source": [
    "train_labels_cat = keras.utils.to_categorical(train_labels)\n",
    "test_labels_cat = keras.utils.to_categorical(test_labels)"
   ]
  },
  {
   "cell_type": "code",
   "execution_count": 6,
   "metadata": {},
   "outputs": [],
   "source": [
    "model = models.Sequential()\n",
    "\n",
    "model.add(layers.Flatten(input_shape=(28,28)))\n",
    "model.add(layers.Dense(128, activation='relu'))\n",
    "model.add(layers.Dense(10, activation='softmax'))\n",
    "\n",
    "model.compile(optimizer='adam', loss=keras.losses.CategoricalCrossentropy(), metrics=['accuracy'])"
   ]
  },
  {
   "cell_type": "code",
   "execution_count": 7,
   "metadata": {},
   "outputs": [
    {
     "name": "stderr",
     "output_type": "stream",
     "text": [
      "2023-06-11 21:46:03.747690: W tensorflow/tsl/framework/cpu_allocator_impl.cc:83] Allocation of 150528000 exceeds 10% of free system memory.\n"
     ]
    },
    {
     "name": "stdout",
     "output_type": "stream",
     "text": [
      "Epoch 1/15\n"
     ]
    },
    {
     "name": "stderr",
     "output_type": "stream",
     "text": [
      "2023-06-11 21:46:50.376392: W tensorflow/tsl/framework/cpu_allocator_impl.cc:83] Allocation of 37632000 exceeds 10% of free system memory.\n"
     ]
    },
    {
     "name": "stdout",
     "output_type": "stream",
     "text": [
      "1500/1500 - 29s - loss: 0.5159 - accuracy: 0.8208 - val_loss: 0.4317 - val_accuracy: 0.8480 - 29s/epoch - 19ms/step\n",
      "Epoch 2/15\n",
      "1500/1500 - 30s - loss: 0.3884 - accuracy: 0.8611 - val_loss: 0.3669 - val_accuracy: 0.8685 - 30s/epoch - 20ms/step\n",
      "Epoch 3/15\n",
      "1500/1500 - 33s - loss: 0.3455 - accuracy: 0.8751 - val_loss: 0.4019 - val_accuracy: 0.8593 - 33s/epoch - 22ms/step\n",
      "Epoch 4/15\n",
      "1500/1500 - 32s - loss: 0.3209 - accuracy: 0.8833 - val_loss: 0.3373 - val_accuracy: 0.8768 - 32s/epoch - 21ms/step\n",
      "Epoch 5/15\n",
      "1500/1500 - 32s - loss: 0.2997 - accuracy: 0.8892 - val_loss: 0.3617 - val_accuracy: 0.8712 - 32s/epoch - 21ms/step\n",
      "Epoch 6/15\n",
      "1500/1500 - 27s - loss: 0.2882 - accuracy: 0.8931 - val_loss: 0.3201 - val_accuracy: 0.8866 - 27s/epoch - 18ms/step\n",
      "Epoch 7/15\n",
      "1500/1500 - 28s - loss: 0.2745 - accuracy: 0.8985 - val_loss: 0.3441 - val_accuracy: 0.8762 - 28s/epoch - 19ms/step\n",
      "Epoch 8/15\n",
      "1500/1500 - 27s - loss: 0.2617 - accuracy: 0.9021 - val_loss: 0.3192 - val_accuracy: 0.8875 - 27s/epoch - 18ms/step\n",
      "Epoch 9/15\n",
      "1500/1500 - 29s - loss: 0.2525 - accuracy: 0.9055 - val_loss: 0.3536 - val_accuracy: 0.8751 - 29s/epoch - 19ms/step\n",
      "Epoch 10/15\n",
      "1500/1500 - 26s - loss: 0.2439 - accuracy: 0.9095 - val_loss: 0.3124 - val_accuracy: 0.8875 - 26s/epoch - 17ms/step\n",
      "Epoch 11/15\n",
      "1500/1500 - 28s - loss: 0.2336 - accuracy: 0.9141 - val_loss: 0.3266 - val_accuracy: 0.8891 - 28s/epoch - 19ms/step\n",
      "Epoch 12/15\n",
      "1500/1500 - 28s - loss: 0.2299 - accuracy: 0.9149 - val_loss: 0.3226 - val_accuracy: 0.8882 - 28s/epoch - 19ms/step\n",
      "Epoch 13/15\n",
      "1500/1500 - 25s - loss: 0.2197 - accuracy: 0.9173 - val_loss: 0.3130 - val_accuracy: 0.8902 - 25s/epoch - 17ms/step\n",
      "Epoch 14/15\n",
      "1500/1500 - 27s - loss: 0.2131 - accuracy: 0.9202 - val_loss: 0.3492 - val_accuracy: 0.8798 - 27s/epoch - 18ms/step\n",
      "Epoch 15/15\n",
      "1500/1500 - 26s - loss: 0.2063 - accuracy: 0.9222 - val_loss: 0.3295 - val_accuracy: 0.8879 - 26s/epoch - 18ms/step\n"
     ]
    }
   ],
   "source": [
    "EPOCHS = 15\n",
    "\n",
    "history = model.fit(train_images, train_labels_cat, epochs=EPOCHS, verbose=2, validation_split=0.2)"
   ]
  },
  {
   "cell_type": "code",
   "execution_count": 8,
   "metadata": {},
   "outputs": [
    {
     "name": "stderr",
     "output_type": "stream",
     "text": [
      "2023-06-11 21:55:25.161755: W tensorflow/tsl/framework/cpu_allocator_impl.cc:83] Allocation of 31360000 exceeds 10% of free system memory.\n"
     ]
    },
    {
     "name": "stdout",
     "output_type": "stream",
     "text": [
      "313/313 [==============================] - 6s 17ms/step - loss: 0.3582 - accuracy: 0.8825\n"
     ]
    },
    {
     "data": {
      "text/plain": [
       "[0.3582141101360321, 0.8824999928474426]"
      ]
     },
     "execution_count": 8,
     "metadata": {},
     "output_type": "execute_result"
    }
   ],
   "source": [
    "model.evaluate(test_images,test_labels_cat)"
   ]
  },
  {
   "cell_type": "code",
   "execution_count": 9,
   "metadata": {},
   "outputs": [],
   "source": [
    "import matplotlib.pyplot as plt"
   ]
  },
  {
   "cell_type": "code",
   "execution_count": 11,
   "metadata": {},
   "outputs": [
    {
     "data": {
      "text/plain": [
       "(0.5, 1.0)"
      ]
     },
     "execution_count": 11,
     "metadata": {},
     "output_type": "execute_result"
    },
    {
     "data": {
      "image/png": "[encoded data removed]",
      "text/plain": [
       "<Figure size 640x480 with 1 Axes>"
      ]
     },
     "metadata": {},
     "output_type": "display_data"
    }
   ],
   "source": [
    "plt.plot(history.history['accuracy'])\n",
    "plt.plot(history.history['val_accuracy'])\n",
    "plt.xlabel('EPOCHS')\n",
    "plt.ylabel('ACCURACY')\n",
    "plt.ylim([0.5, 1])\n",
    "# plt.legend(loc='top left')"
   ]
  }
 ],
 "metadata": {
  "kernelspec": {
   "display_name": "base",
   "language": "python",
   "name": "python3"
  },
  "language_info": {
   "codemirror_mode": {
    "name": "ipython",
    "version": 3
   },
   "file_extension": ".py",
   "mimetype": "text/x-python",
   "name": "python",
   "nbconvert_exporter": "python",
   "pygments_lexer": "ipython3",
   "version": "3.9.13"
  },
  "orig_nbformat": 4
 },
 "nbformat": 4,
 "nbformat_minor": 2
}
