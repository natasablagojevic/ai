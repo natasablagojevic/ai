{
 "cells": [
  {
   "cell_type": "code",
   "execution_count": 1,
   "metadata": {},
   "outputs": [],
   "source": [
    "import sys\n",
    "import os"
   ]
  },
  {
   "cell_type": "code",
   "execution_count": null,
   "metadata": {},
   "outputs": [],
   "source": [
    "class CNF:\n",
    "    def __init__(self) -> None:\n",
    "        self.clauses = []\n",
    "        self.var_name_to_number = {}\n",
    "        self.number_to_var_name = {}\n",
    "        \n",
    "    def add_clause(self, clause):\n",
    "        for literal in clause:\n",
    "            var_name = literal.strip('-')\n",
    "            if var_name not in self.var_name_to_number:\n",
    "                var_number = len(self.var_name_to_number)+1\n",
    "                self.var_name_to_number[var_name] = var_number\n",
    "                self.number_to_var_name[var_number] = var_name\n",
    "        self.clauses.append(clause)\n",
    "        \n",
    "    def dimacs(self):\n",
    "        res = f'p cnf {len(self.var_name_to_number)} {len(self.clauses)}'\n",
    "        \n",
    "        for clause in self.clauses:\n",
    "            for literal in clause:\n",
    "                var_name = literal.strip('-')\n",
    "                if literal[0] == '-':\n",
    "                    res += '-'\n",
    "                res += f'{self.var_name_to_number[var_name]} '\n",
    "            res += '0\\n'\n",
    "        return res "
   ]
  }
 ],
 "metadata": {
  "kernelspec": {
   "display_name": "base",
   "language": "python",
   "name": "python3"
  },
  "language_info": {
   "codemirror_mode": {
    "name": "ipython",
    "version": 3
   },
   "file_extension": ".py",
   "mimetype": "text/x-python",
   "name": "python",
   "nbconvert_exporter": "python",
   "pygments_lexer": "ipython3",
   "version": "3.9.13"
  },
  "orig_nbformat": 4
 },
 "nbformat": 4,
 "nbformat_minor": 2
}
