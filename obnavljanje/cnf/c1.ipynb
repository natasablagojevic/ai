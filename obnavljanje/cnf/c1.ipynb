{
 "cells": [
  {
   "cell_type": "code",
   "execution_count": null,
   "metadata": {},
   "outputs": [],
   "source": [
    "class CNF:\n",
    "    def __init__(self):\n",
    "        self.clauses = []\n",
    "        self.var_name_to_number = {}\n",
    "        self.number_to_var_name = {} \n",
    "        \n",
    "    def add_clause(self, clause):\n",
    "        for literal in clause:\n",
    "            var_name = literal.strip('-')\n",
    "            if var_name not in self.var_name_to_number:\n",
    "                var_number = len(self.var_name_to_number)+1\n",
    "                self.var_name_to_number[var_name] = var_number\n",
    "                self.number_to_var_name[var_number] = var_name \n",
    "        self.clauses.append(clause) \n",
    "    \n",
    "    def dimacs(self):\n",
    "        result = f'p cnf {len(self.var_name_to_number)} {len(self.clauses)}\\n'\n",
    "        \n",
    "        for clause in self.clauses:\n",
    "            for literal in clause:\n",
    "                var_name = literal.strip('-')\n",
    "                if literal[0] == '-':\n",
    "                    result += '-' \n",
    "                result += f'{self.var_name_to_number[var_name]} '\n",
    "            res += '0\\n'\n",
    "            \n",
    "        return result\n",
    "                "
   ]
  }
 ],
 "metadata": {
  "kernelspec": {
   "display_name": "base",
   "language": "python",
   "name": "python3"
  },
  "language_info": {
   "name": "python",
   "version": "3.9.13"
  },
  "orig_nbformat": 4
 },
 "nbformat": 4,
 "nbformat_minor": 2
}
