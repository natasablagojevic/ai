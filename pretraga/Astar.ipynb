{
  "nbformat": 4,
  "nbformat_minor": 0,
  "metadata": {
    "colab": {
      "provenance": []
    },
    "kernelspec": {
      "name": "python3",
      "display_name": "Python 3"
    },
    "language_info": {
      "name": "python"
    }
  },
  "cells": [
    {
      "cell_type": "markdown",
      "source": [
        "Da bismo mogil da imlementiramo **A*** moramo:\n",
        "* kao argumente prihvata: **pocetak, kraj, funkcija_heuristike**\n",
        "* imati *otvorenu listu* u kojoj ce se inicijalno naci pocetni cvor pretrage\n",
        "  * obavezno ukalanjanje trenutnog obradjenog cvora iz otvorene liste\n",
        "* imati heuristicku funkciju - neke procene koje se korist, npr: vazdusna rastojanja od gradova, euklidska rastojanja, menhetn, ..\n",
        "* da bismo ispisali putanju, treba da pamtnimo roditelje(mapa) svakog cvora\n",
        "* heuristicke procene za svaki cvor (mapa)\n",
        "* funkciju koja nalazi sledeci_cvor\n",
        "  * argumenti su joj: **otvorena_lista, heuristicka_procena**\n",
        "\n"
      ],
      "metadata": {
        "id": "vfI0RpYXmtkD"
      }
    },
    {
      "cell_type": "code",
      "execution_count": 3,
      "metadata": {
        "id": "vdoXgEN3VaI2"
      },
      "outputs": [],
      "source": [
        "import sys\n",
        "import pandas as pd\n",
        "import json"
      ]
    },
    {
      "cell_type": "code",
      "source": [
        "try:\n",
        "  with open('cities.json', 'r') as f:\n",
        "    lista_susedstva = dict(json.load(f))\n",
        "\n",
        "except:\n",
        "  sys.exit('datoteka ne postoji')"
      ],
      "metadata": {
        "id": "uVWYh1qlV5Ei"
      },
      "execution_count": 10,
      "outputs": []
    },
    {
      "cell_type": "code",
      "source": [
        "lista_susedstva"
      ],
      "metadata": {
        "colab": {
          "base_uri": "https://localhost:8080/"
        },
        "id": "jonmK4waXR5m",
        "outputId": "0932d49a-d3dc-4a53-8d39-55a012ad8c6d"
      },
      "execution_count": 11,
      "outputs": [
        {
          "output_type": "execute_result",
          "data": {
            "text/plain": [
              "{'Oradea': [['Zerind', 71], ['Sibiu', 151]],\n",
              " 'Zerind': [['Arad', 75], ['Oradea', 71]],\n",
              " 'Arad': [['Sibiu', 140], ['Timisoara', 118], ['Zerind', 75]],\n",
              " 'Timisoara': [['Lugoj', 111], ['Arad', 118]],\n",
              " 'Lugoj': [['Mehadia', 70], ['Timisoara', 111]],\n",
              " 'Mehadia': [['Drobeta', 75], ['Lugoj', 70]],\n",
              " 'Drobeta': [['Craiova', 120], ['Mehadia', 75]],\n",
              " 'Sibiu': [['Fagaras', 99],\n",
              "  ['Rimnicu Vilacea', 80],\n",
              "  ['Arad', 140],\n",
              "  ['Oradea', 151]],\n",
              " 'Fagaras': [['Buchares', 211], ['Sibiu', 99]],\n",
              " 'Rimnicu Vilacea': [['Sibiu', 80], ['Pitesti', 97], ['Craiova', 146]],\n",
              " 'Pitesti': [['Rimnicu Vilacea', 97], ['Craiova', 138], ['Buchares', 101]],\n",
              " 'Craiova': [['Rimnicu Vilacea', 146], ['Pitesti', 138], ['Drobeta', 120]],\n",
              " 'Buchares': [['Fagaras', 211], ['Pitesti', 101], ['Urziceni', 85]],\n",
              " 'Urziceni': [['Buchares', 85], ['Hirsova', 98], ['Vaslui', 142]],\n",
              " 'Vaslui': [['Urziceni', 98], ['Lasi', 92]],\n",
              " 'Lasi': [['Vaslui', 92], ['Neamt', 87]],\n",
              " 'Neamt': [['Lasi', 87]],\n",
              " 'Hirsova': [['Urziceni', 98]]}"
            ]
          },
          "metadata": {},
          "execution_count": 11
        }
      ]
    },
    {
      "cell_type": "code",
      "source": [
        "for sused, tezina in lista_susedstva['Arad']:\n",
        "  print(sused, tezina)"
      ],
      "metadata": {
        "colab": {
          "base_uri": "https://localhost:8080/"
        },
        "id": "h1UFbSnKX6XL",
        "outputId": "50617064-6f59-44da-bfa1-8f7fdb56763d"
      },
      "execution_count": 13,
      "outputs": [
        {
          "output_type": "stream",
          "name": "stdout",
          "text": [
            "Sibiu 140\n",
            "Timisoara 118\n",
            "Zerind 75\n"
          ]
        }
      ]
    },
    {
      "cell_type": "markdown",
      "source": [
        "**otvorena i zatvorena lista** \n",
        "* u otvorenu listu na pocetku stavimo pocetni cvor\n",
        "* funkcija nagadjanja\n"
      ],
      "metadata": {
        "id": "h9j2CknlYo9d"
      }
    },
    {
      "cell_type": "code",
      "source": [
        "def astar(lista_susedstva, pocetak, kraj, h):\n",
        "  otvorena_lista = set([pocetak])\n",
        "\n",
        "  pronadjen_put = False\n",
        "  roditelji = {}\n",
        "  roditelji[pocetak] = None \n",
        "  \n",
        "  udaljenost = {v : float('inf') for v in lista_susedstva}\n",
        "  udaljenost[pocetak] = 0\n",
        "\n",
        "  heuristicka_procena = {v : float('inf') for v in lista_susedstva}\n",
        "  heuristicka_procena[pocetak] = h(pocetak)\n",
        "\n",
        "  while len(otvorena_lista) > 0:\n",
        "    tmp = sledeci_cvor(otvorena_lista, heuristicka_procena)\n",
        "\n",
        "    if (tmp == kraj):\n",
        "      pronadjen_put = True\n",
        "      break\n",
        "\n",
        "    otvorena_lista.remove(tmp)\n",
        "\n",
        "    for sused, tezina in lista_susedstva[tmp]:\n",
        "      nova_udaljenost = udaljenost[tmp] + tezina\n",
        "      if (udaljenost[sused] > nova_udaljenost):\n",
        "\n",
        "        udaljenost[sused] = nova_udaljenost\n",
        "        roditelji[sused] = tmp\n",
        "\n",
        "        heuristicka_procena[sused] = nova_udaljenost + h(sused)\n",
        "\n",
        "        if sused is not otvorena_lista:\n",
        "          otvorena_lista.add(sused)\n",
        "\n",
        "  put = []\n",
        "  if pronadjen_put == True:\n",
        "    while kraj is not None:\n",
        "      put.append(kraj)\n",
        "      kraj = roditelji[kraj]\n",
        "\n",
        "  put.reverse()\n",
        "  return put"
      ],
      "metadata": {
        "id": "FYJUjiADYHJv"
      },
      "execution_count": 40,
      "outputs": []
    },
    {
      "cell_type": "code",
      "source": [
        "def sledeci_cvor(otvorena_lista, heuristicka_procena):\n",
        "  v = None\n",
        "  min_d = float('inf')\n",
        "\n",
        "  for cvor in otvorena_lista:\n",
        "    if cvor in heuristicka_procena:\n",
        "      p = heuristicka_procena[cvor]\n",
        "\n",
        "      if p < min_d:\n",
        "        min_d = p\n",
        "        v = cvor\n",
        "\n",
        "  return v"
      ],
      "metadata": {
        "id": "9cxz4cchZLCZ"
      },
      "execution_count": 24,
      "outputs": []
    },
    {
      "cell_type": "code",
      "source": [
        "def h(n):\n",
        "  H = {\n",
        "    'Oradea' : 380,\n",
        "    'Zerind' : 374,\n",
        "    'Timisoara' : 329,\n",
        "    'Lugoj' : 244,\n",
        "    'Mehadia' : 241,\n",
        "    'Drobeta' : 242,\n",
        "    'Sibiu' : 253,\n",
        "    'Fagaras' : 176,\n",
        "    'Rimnicu Vilacea' : 193,\n",
        "    'Pitesti' : 100,\n",
        "    'Craiova' : 160,\n",
        "    'Buchares' : 0\n",
        "  }\n",
        "\n",
        "  return H[n] if n in H else 400"
      ],
      "metadata": {
        "id": "q-s0sKvGZNjh"
      },
      "execution_count": 25,
      "outputs": []
    },
    {
      "cell_type": "code",
      "source": [
        "pocetak = 'Arad'\n",
        "kraj = 'Buchares'"
      ],
      "metadata": {
        "id": "7wL736bsYeY3"
      },
      "execution_count": 26,
      "outputs": []
    },
    {
      "cell_type": "code",
      "source": [
        "path = astar(lista_susedstva, pocetak, kraj, h)\n",
        "print(path)"
      ],
      "metadata": {
        "colab": {
          "base_uri": "https://localhost:8080/"
        },
        "id": "feHBjit4YK-M",
        "outputId": "1ba643a8-3949-4b0c-f577-929f0da25ce3"
      },
      "execution_count": 41,
      "outputs": [
        {
          "output_type": "stream",
          "name": "stdout",
          "text": [
            "['Arad', 'Sibiu', 'Rimnicu Vilacea', 'Pitesti', 'Buchares']\n"
          ]
        }
      ]
    }
  ]
}