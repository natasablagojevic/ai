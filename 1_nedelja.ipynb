{
  "nbformat": 4,
  "nbformat_minor": 0,
  "metadata": {
    "colab": {
      "provenance": [],
      "authorship_tag": "ABX9TyN/UeDtdRcDgALEErWPe5qz",
      "include_colab_link": true
    },
    "kernelspec": {
      "name": "python3",
      "display_name": "Python 3"
    },
    "language_info": {
      "name": "python"
    }
  },
  "cells": [
    {
      "cell_type": "markdown",
      "metadata": {
        "id": "view-in-github",
        "colab_type": "text"
      },
      "source": [
        "<a href=\"https://colab.research.google.com/github/natasablagojevic/ai/blob/main/1_nedelja.ipynb\" target=\"_parent\"><img src=\"https://colab.research.google.com/assets/colab-badge.svg\" alt=\"Open In Colab\"/></a>"
      ]
    },
    {
      "cell_type": "code",
      "execution_count": null,
      "metadata": {
        "id": "eC02t6VoAjF1"
      },
      "outputs": [],
      "source": [
        "import pandas as pd\n",
        "import seaborn as sns"
      ]
    },
    {
      "cell_type": "code",
      "source": [
        "try:\n",
        "  with open(\"/content/1.txt\", \"r\") as f:\n",
        "    print(f.readlines())\n",
        "except:\n",
        "  print(\"Doslo je do greske\")"
      ],
      "metadata": {
        "id": "C2CzFvYoF2PH",
        "outputId": "62473926-1e93-44b5-e1d1-b73c2672c8d6",
        "colab": {
          "base_uri": "https://localhost:8080/"
        }
      },
      "execution_count": null,
      "outputs": [
        {
          "output_type": "stream",
          "name": "stdout",
          "text": [
            "['Ovde se nalazi neki tekst.\\n', 'On ce biti ispisan na ekranu.\\n']\n"
          ]
        }
      ]
    },
    {
      "cell_type": "code",
      "source": [
        "def saberi(a, b):\n",
        "  return a+b"
      ],
      "metadata": {
        "id": "nIV7V2mgHTgQ"
      },
      "execution_count": null,
      "outputs": []
    },
    {
      "cell_type": "code",
      "source": [
        "try:\n",
        "  a = int(input())\n",
        "  b = int(input())\n",
        "\n",
        "  saberi(a, b)\n",
        "except:\n",
        "  print(\"Doslo je do greske pri sabiranju\")"
      ],
      "metadata": {
        "id": "-Wj9NV8vHYVm",
        "outputId": "95b27b83-cfc9-4065-a971-82742d8b618a",
        "colab": {
          "base_uri": "https://localhost:8080/"
        }
      },
      "execution_count": null,
      "outputs": [
        {
          "output_type": "stream",
          "name": "stdout",
          "text": [
            "ana\n",
            "Doslo je do greske pri sabiranju\n"
          ]
        }
      ]
    },
    {
      "cell_type": "code",
      "source": [
        "lista = []\n",
        "try:\n",
        "  n = int(input())\n",
        "except:\n",
        "  print(\"Nije broj\")\n",
        "\n",
        "for i in range(1, n+1):\n",
        "  lista.append(i)\n",
        "\n",
        "lista"
      ],
      "metadata": {
        "id": "EtwjckezKECo",
        "outputId": "48ef0471-c7ea-4622-836e-0bb36166ef0a",
        "colab": {
          "base_uri": "https://localhost:8080/"
        }
      },
      "execution_count": null,
      "outputs": [
        {
          "name": "stdout",
          "output_type": "stream",
          "text": [
            "5\n"
          ]
        },
        {
          "output_type": "execute_result",
          "data": {
            "text/plain": [
              "[1, 2, 3, 4, 5]"
            ]
          },
          "metadata": {},
          "execution_count": 17
        }
      ]
    },
    {
      "cell_type": "code",
      "source": [
        "# tuples : n-torke\n",
        "# imutabilni : ne mogu im se promeniti vrednosti\n",
        "# operator: +, *\n",
        "\n",
        "tu = (23, 'abc', 4.56, (2,3), 'def')\n",
        "tu"
      ],
      "metadata": {
        "id": "FEcRsfdoK58r",
        "outputId": "0070e543-826a-4d86-fb29-a59362ae04e9",
        "colab": {
          "base_uri": "https://localhost:8080/"
        }
      },
      "execution_count": null,
      "outputs": [
        {
          "output_type": "execute_result",
          "data": {
            "text/plain": [
              "(23, 'abc', 4.56, (2, 3), 'def')"
            ]
          },
          "metadata": {},
          "execution_count": 1
        }
      ]
    },
    {
      "cell_type": "code",
      "source": [
        "# lista \n",
        "# mutabilni : njeni elementi se mogu menjati\n",
        "# operator: +, *\n",
        "# metode: \n",
        "#   index() - ineks prvog pojavljivanja\n",
        "#   count(elem) - broj pojavljivanja\n",
        "#   remove(elem) - ukloni prvo pojavljivanje\n",
        "#   reverse()   - obrni listu in place\n",
        "#   sort()  - sortiraj elemente\n",
        "#   sort(funkcija)\n",
        "#   append(elem)  - dodaj element na kraj\n",
        "\n",
        "li = [23, 'abc', 4.56, (2,3), 'def']\n",
        "li"
      ],
      "metadata": {
        "id": "SNntj9OULOhc",
        "outputId": "df4b6d10-6f15-45a3-ee9c-eac22c353176",
        "colab": {
          "base_uri": "https://localhost:8080/"
        }
      },
      "execution_count": null,
      "outputs": [
        {
          "output_type": "execute_result",
          "data": {
            "text/plain": [
              "[23, 'abc', 4.56, (2, 3), 'def']"
            ]
          },
          "metadata": {},
          "execution_count": 22
        }
      ]
    },
    {
      "cell_type": "code",
      "source": [
        "A = (1, 2, 3)\n",
        "B = (4, 5, 6)\n",
        "\n",
        "\"Hello world! \" * 3"
      ],
      "metadata": {
        "id": "Q3EUmoHaLQNW",
        "outputId": "0367c7cc-d19f-4972-b3e8-42027698975c",
        "colab": {
          "base_uri": "https://localhost:8080/",
          "height": 35
        }
      },
      "execution_count": null,
      "outputs": [
        {
          "output_type": "execute_result",
          "data": {
            "text/plain": [
              "'Hello world! Hello world! Hello world! '"
            ],
            "application/vnd.google.colaboratory.intrinsic+json": {
              "type": "string"
            }
          },
          "metadata": {},
          "execution_count": 33
        }
      ]
    }
  ]
}