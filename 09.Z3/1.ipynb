{
 "cells": [
  {
   "cell_type": "code",
   "execution_count": 2,
   "metadata": {},
   "outputs": [],
   "source": [
    "# Z3 - resava probleme iz iskazne i predikatske logike, u logici u opste"
   ]
  },
  {
   "cell_type": "code",
   "execution_count": 3,
   "metadata": {},
   "outputs": [],
   "source": [
    "from z3 import *"
   ]
  },
  {
   "cell_type": "code",
   "execution_count": 4,
   "metadata": {},
   "outputs": [
    {
     "name": "stdout",
     "output_type": "stream",
     "text": [
      "x =  3/2\n",
      "y =  2\n",
      "z =  0\n",
      "y = 2\n",
      "x = 3/2\n",
      "z = 0\n"
     ]
    }
   ],
   "source": [
    "x, y, z = Reals('x y z')\n",
    "s = Solver()\n",
    "s.add(x > 1, y > 1, x+y > 3, z-x < 10)\n",
    "s.check()\n",
    "\n",
    "m = s.model()\n",
    "\n",
    "print(\"x = \", m[x])\n",
    "print(\"y = \", m[y])\n",
    "print(\"z = \", m[z])\n",
    "\n",
    "for d in m.decls():\n",
    "    print(f'{d} = {m[d]}')"
   ]
  },
  {
   "cell_type": "code",
   "execution_count": 5,
   "metadata": {},
   "outputs": [],
   "source": [
    "# Reals, Bools, Ints, Function"
   ]
  },
  {
   "cell_type": "code",
   "execution_count": 6,
   "metadata": {},
   "outputs": [
    {
     "name": "stdout",
     "output_type": "stream",
     "text": [
      "[x = 0, y = 1, f = [1 -> 0, else -> 1]]\n"
     ]
    }
   ],
   "source": [
    "#                  domen      kodomen\n",
    "f = Function('f', IntSort(), IntSort()) # f : Z -> Z\n",
    "x,y = Ints('x y')\n",
    "solve(f(f(x)) == x, f(x) == y, x != y)"
   ]
  },
  {
   "cell_type": "code",
   "execution_count": 7,
   "metadata": {},
   "outputs": [],
   "source": [
    "# def solve(a):\n",
    "#    s = Solver()\n",
    "#    s.add(a)\n",
    "#    if s.check() == sat:\n",
    "#       print(s.model())"
   ]
  },
  {
   "cell_type": "code",
   "execution_count": 8,
   "metadata": {},
   "outputs": [
    {
     "name": "stdout",
     "output_type": "stream",
     "text": [
      "[x = 0, y = 1, f = [1 -> 0, else -> 1]]\n",
      "sat\n"
     ]
    },
    {
     "data": {
      "text/html": [
       "f(f(x))"
      ],
      "text/plain": [
       "f(f(x))"
      ]
     },
     "execution_count": 8,
     "metadata": {},
     "output_type": "execute_result"
    }
   ],
   "source": [
    "#                  domen      kodomen\n",
    "f = Function('f', IntSort(), IntSort()) # f : Z -> Z\n",
    "x,y = Ints('x y')\n",
    "solve(f(f(x)) == x, f(x) == y, x != y)\n",
    "print(s.check())\n",
    "m = s.model()\n",
    "m.evaluate(f(f(x)))"
   ]
  }
 ],
 "metadata": {
  "kernelspec": {
   "display_name": "Python 3",
   "language": "python",
   "name": "python3"
  },
  "language_info": {
   "codemirror_mode": {
    "name": "ipython",
    "version": 3
   },
   "file_extension": ".py",
   "mimetype": "text/x-python",
   "name": "python",
   "nbconvert_exporter": "python",
   "pygments_lexer": "ipython3",
   "version": "3.9.13"
  },
  "orig_nbformat": 4
 },
 "nbformat": 4,
 "nbformat_minor": 2
}
