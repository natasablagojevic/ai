{
 "cells": [
  {
   "cell_type": "code",
   "execution_count": 1,
   "metadata": {},
   "outputs": [],
   "source": [
    "# Svaki covek je smrtan  - aksioma\n",
    "# Sokrat je covek        - aksioma\n",
    "# Sokrat je smrtan       - konjaktura\n",
    "\n",
    "# Predikati:\n",
    "# Smrtan(X)\n",
    "# Covek(X)\n",
    "\n",
    "# Domen: sta god zelimo da bude (neki skup)\n",
    "# Kodomen: T/F"
   ]
  },
  {
   "cell_type": "code",
   "execution_count": 3,
   "metadata": {},
   "outputs": [],
   "source": [
    "from z3 import *"
   ]
  },
  {
   "cell_type": "code",
   "execution_count": 4,
   "metadata": {},
   "outputs": [
    {
     "name": "stdout",
     "output_type": "stream",
     "text": [
      "axioms coherent\n",
      "unsat\n"
     ]
    }
   ],
   "source": [
    "# BoolSort, IntSort, RealSort\n",
    "Objekat = DeclareSort('Objekat')\n",
    "Human = Function('Human', Objekat, BoolSort())\n",
    "Mortal = Function('Mortal', Objekat, BoolSort())\n",
    "\n",
    "socrates = Const('socrates', Objekat)\n",
    "\n",
    "# zapis aksioma\n",
    "x = Const('x', Objekat)\n",
    "# niz promenljivih uhvacene kvantifikatorom\n",
    "A1 = ForAll([x], Implies(Human(x), Mortal(x)))\n",
    "A2 = Human(socrates)\n",
    "conjucture = Mortal(socrates)\n",
    "\n",
    "s = Solver()\n",
    "s.add(A1)\n",
    "s.add(A2)\n",
    "\n",
    "# uvek pre provere\n",
    "if s.check() == sat:\n",
    "    print('axioms coherent')\n",
    "    \n",
    "    # pps: konjaktura sledi iz suprotnog\n",
    "    s.add(Not(conjucture))\n",
    "    print(s.check())\n",
    "else:\n",
    "    print('axioms incoherent')\n",
    "    "
   ]
  },
  {
   "cell_type": "code",
   "execution_count": 7,
   "metadata": {},
   "outputs": [
    {
     "name": "stdout",
     "output_type": "stream",
     "text": [
      "sat\n",
      "unsat\n"
     ]
    }
   ],
   "source": [
    "# Dve nemimopilazne prave se seku ili su paralelne\n",
    "# Prave koje se seku, leze u istoj ravni\n",
    "# Prave koje su paralelne leze u istoj ravni\n",
    "# Dve nemimoilazne prave leze u istoj ravni\n",
    "\n",
    "                 # implikacija na konjukciju\n",
    "# m(X,Y) - X i Y su neminoilazne\n",
    "# p(X,Y) - X i Y su paralelne\n",
    "# s(X,Y) - X i Y se seku\n",
    "# r(X,Y) - X i Y u istoj ravni\n",
    "\n",
    "B = BoolSort()\n",
    "\n",
    "P = DeclareSort('Prave')\n",
    "\n",
    "m = Function('m', P, P, B)\n",
    "s = Function('s', P, P, B)\n",
    "p = Function('p', P, P, B)\n",
    "r = Function('r', P, P, B) \n",
    "\n",
    "\n",
    "x, y = Consts('x y', P)\n",
    "\n",
    "A1 = ForAll([x, y], Implies(m(x, y), Xor(s(x,y), p(x,y))))\n",
    "A2 = ForAll([x, y], Implies(s(x,y), r(x,y)))\n",
    "A3 = ForAll([x,y], Implies(p(x,y), r(x,y)))\n",
    "\n",
    "conjucture = ForAll([x,y], Implies(m(x,y), r(x,y)))\n",
    "\n",
    "s = Solver()\n",
    "s.add(A1, A2, A3)\n",
    "print(s.check())\n",
    "# s.add(conjucture)\n",
    "s.add(Not(conjucture))\n",
    "print(s.check())"
   ]
  },
  {
   "cell_type": "code",
   "execution_count": null,
   "metadata": {},
   "outputs": [],
   "source": [
    "# UPROSCAVANJE IZRAZA"
   ]
  },
  {
   "cell_type": "code",
   "execution_count": 14,
   "metadata": {},
   "outputs": [
    {
     "data": {
      "text/html": [
       "<b>sat</b>"
      ],
      "text/plain": [
       "sat"
      ]
     },
     "execution_count": 14,
     "metadata": {},
     "output_type": "execute_result"
    }
   ],
   "source": [
    "x = Int('x')\n",
    "y = Int('y')\n",
    "# x,y = Ints('x y')\n",
    "expr = simplify(x+y+2*x+3)\n",
    "s = Solver()\n",
    "s.add(expr > 0)\n",
    "s.check()"
   ]
  },
  {
   "cell_type": "code",
   "execution_count": 9,
   "metadata": {},
   "outputs": [
    {
     "data": {
      "text/html": [
       "&not;(y &le; -2)"
      ],
      "text/plain": [
       "Not(y <= -2)"
      ]
     },
     "execution_count": 9,
     "metadata": {},
     "output_type": "execute_result"
    }
   ],
   "source": [
    "simplify(x < y + x + 2)"
   ]
  },
  {
   "cell_type": "code",
   "execution_count": 16,
   "metadata": {},
   "outputs": [
    {
     "data": {
      "text/html": [
       "x &ge; 2 &and; 2&middot;x<sup>2</sup> + y<sup>2</sup> &ge; 3"
      ],
      "text/plain": [
       "And(x >= 2, 2*x**2 + y**2 >= 3)"
      ]
     },
     "execution_count": 16,
     "metadata": {},
     "output_type": "execute_result"
    }
   ],
   "source": [
    "# korisno kod: optimizacije, dokazivanje\n",
    "simplify(And(x+1 >= 3, x**2 + + x**2 + y**2 + 2 >= 5))"
   ]
  },
  {
   "cell_type": "code",
   "execution_count": 19,
   "metadata": {},
   "outputs": [
    {
     "name": "stdout",
     "output_type": "stream",
     "text": [
      "[p = True, q = True]\n",
      "proved\n"
     ]
    }
   ],
   "source": [
    "# Dokazivanje\n",
    "\n",
    "p, q = Bools('p q')\n",
    "# jedna valuacija koja daje zadato ogranicenje\n",
    "solve(Implies(And(p, q), p))\n",
    "\n",
    "# dokazivanje\n",
    "prove(Implies(And(p, q), p))"
   ]
  },
  {
   "cell_type": "code",
   "execution_count": 21,
   "metadata": {},
   "outputs": [
    {
     "name": "stdout",
     "output_type": "stream",
     "text": [
      "proved\n"
     ]
    }
   ],
   "source": [
    "de_morgan = Not(And(p, q)) == Or(Not(p), Not(q))\n",
    "prove(de_morgan)"
   ]
  },
  {
   "cell_type": "code",
   "execution_count": 23,
   "metadata": {},
   "outputs": [
    {
     "name": "stdout",
     "output_type": "stream",
     "text": [
      "counterexample\n",
      "[]\n"
     ]
    }
   ],
   "source": [
    "prove(And(p, Not(p)))"
   ]
  },
  {
   "cell_type": "code",
   "execution_count": 25,
   "metadata": {},
   "outputs": [
    {
     "name": "stdout",
     "output_type": "stream",
     "text": [
      "failed to solve\n"
     ]
    }
   ],
   "source": [
    "# Sta Z3 NE MOZE da uradi - kriptografija\n",
    "\n",
    "x, y = Ints('x y')\n",
    "# pubkey = 3*7\n",
    "pubkey = 1000000993 * 1000001011\n",
    "solve(x*y == pubkey, x > 1, y > 1)"
   ]
  },
  {
   "cell_type": "code",
   "execution_count": 26,
   "metadata": {},
   "outputs": [],
   "source": [
    "# Na ispitu iz ovoga da se uradi par stvari\n",
    "# 1. uradi jednacina\n",
    "# 2. nesto da se uprosti\n",
    "# 3. nesto da se dokaze\n",
    "# 4. da su date predikatske recenice koje treba da se rese"
   ]
  },
  {
   "cell_type": "code",
   "execution_count": 27,
   "metadata": {},
   "outputs": [],
   "source": [
    "# Masinsko ucenje\n",
    "# podsetiti se numpy, pandas, matplotlib"
   ]
  }
 ],
 "metadata": {
  "kernelspec": {
   "display_name": "Python 3",
   "language": "python",
   "name": "python3"
  },
  "language_info": {
   "codemirror_mode": {
    "name": "ipython",
    "version": 3
   },
   "file_extension": ".py",
   "mimetype": "text/x-python",
   "name": "python",
   "nbconvert_exporter": "python",
   "pygments_lexer": "ipython3",
   "version": "3.9.13"
  },
  "orig_nbformat": 4
 },
 "nbformat": 4,
 "nbformat_minor": 2
}
