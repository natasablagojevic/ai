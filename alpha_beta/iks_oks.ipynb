{
  "nbformat": 4,
  "nbformat_minor": 0,
  "metadata": {
    "colab": {
      "provenance": []
    },
    "kernelspec": {
      "name": "python3",
      "display_name": "Python 3"
    },
    "language_info": {
      "name": "python"
    }
  },
  "cells": [
    {
      "cell_type": "code",
      "execution_count": null,
      "metadata": {
        "id": "4nV6XpyomdEZ"
      },
      "outputs": [],
      "source": [
        "# pravimo boot-a\n",
        "# 1 : pobedio\n",
        "# 0 : nereseno\n",
        "# -1 : izgubio\n",
        "# iz ugla X maksimizujem, iz ugla O minimuzejemo\n",
        "# gledamo sta najbolje protivnik moze da odigra\n",
        "# skoro sve igre su zasonave na minmax-u  "
      ]
    },
    {
      "cell_type": "code",
      "source": [
        "# stanje igre\n",
        "class XOState:\n",
        "  empty = ' '\n",
        "\n",
        "  def __init__(self):\n",
        "    self.board = [\n",
        "        [XOState.empty, XOState.empty, XOState.empty],\n",
        "        [XOState.empty, XOState.empty, XOState.empty],\n",
        "        [XOState.empty, XOState.empty, XOState.empty]\n",
        "    ]\n",
        "    self.curr_player = 'X'\n",
        "    self.move_count = 0;\n",
        "    self.last_move = None   # vrsta i kolona dva int-a\n",
        "\n",
        "  def play_move(self, move):\n",
        "    i, j = move[0], move[1]\n",
        "    \n",
        "    # pre upisa X ili O treba da proverimo da vec nije upisano nesto\n",
        "    self.board[i][j] = self.curr_player\n",
        "    self.curr_player = 'X' if self.curr_player == 'O' else 'O'\n",
        "    self.last_move = move\n",
        "    self.move_count += 1\n",
        "\n",
        "  def draw_board(self):\n",
        "    print(\" | \".join(self.board[0]))\n",
        "    # print(\"-----------\")\n",
        "    print(\" | \".join(self.board[1]))\n",
        "    # print(\"-----------\")\n",
        "    print(\" | \".join(self.board[2]))\n",
        "\n",
        "def read_next_move_from_stdin():\n",
        "  move = input().split(',')\n",
        "\n",
        "  return [int(move[0]), int(move[1])]\n",
        "\n",
        "# ocekujem kog je tipa, naveli smo tip kog ocekujemo\n",
        "def end(current_state: XOState):\n",
        "  winner = get_winner(current_state)\n",
        "\n",
        "  return winner is not None or current_state.move_count == 9\n",
        "\n",
        "def get_winner(current_state):\n",
        "  board = current_state.board \n",
        "\n",
        "  # kolone\n",
        "  for i in range(3):\n",
        "    if board[0][i] != XOState.empty and board[0][i] == board[1][i] and board[0][1] == board[2][i]:\n",
        "      return board[0][i]\n",
        "  \n",
        "  # vrste\n",
        "  for  i in range(3):\n",
        "    if board[i][0] != XOState.empty and board[i][0] == board[i][1] and board[i][0] == board[i][2]:\n",
        "      return board[i][0]\n",
        "\n",
        "  # dijagonale\n",
        "  if (board[0][0] != XOState.empty and board[0][0] == board[1][1] and board[0][0] == board[2][2]):\n",
        "    return board[0][0]\n",
        "\n",
        "  # sporedna\n",
        "  if (board[0][2] != XOState.empty and board[0][2] == board[1][1] and board[0][2] == board[0][1]):\n",
        "    return board[0][2]\n",
        "\n",
        "  return None"
      ],
      "metadata": {
        "id": "vGgb2pD4oNVl"
      },
      "execution_count": null,
      "outputs": []
    },
    {
      "cell_type": "code",
      "source": [
        "# game = XOState()\n",
        "# game.draw_board()"
      ],
      "metadata": {
        "colab": {
          "base_uri": "https://localhost:8080/"
        },
        "id": "xlafjtOkqFwf",
        "outputId": "b79a6277-9a31-4fb5-ba8d-9a675c3b1d0a"
      },
      "execution_count": null,
      "outputs": [
        {
          "output_type": "stream",
          "name": "stdout",
          "text": [
            "  |   |  \n",
            "  |   |  \n",
            "  |   |  \n"
          ]
        }
      ]
    },
    {
      "cell_type": "code",
      "source": [
        "# end(game)"
      ],
      "metadata": {
        "colab": {
          "base_uri": "https://localhost:8080/"
        },
        "id": "tpO5eifithj4",
        "outputId": "77b245ac-7bcc-4546-9c37-7b511e961d1f"
      },
      "execution_count": null,
      "outputs": [
        {
          "output_type": "execute_result",
          "data": {
            "text/plain": [
              "False"
            ]
          },
          "metadata": {},
          "execution_count": 4
        }
      ]
    },
    {
      "cell_type": "code",
      "source": [
        "def evaluate(current_state: XOState):\n",
        "  winner = get_winner(current_state)\n",
        "  result = 0\n",
        "\n",
        "  if winner == 'X':\n",
        "    result = 1 / (current_state.move_count)\n",
        "  elif winner == 'O':\n",
        "    result = -1 / (current_state.move_count)\n",
        "  \n",
        "  return result"
      ],
      "metadata": {
        "id": "Cz6XYCvmtJcM"
      },
      "execution_count": null,
      "outputs": []
    },
    {
      "cell_type": "code",
      "source": [
        "import copy\n",
        "def get_next_states(current_state: XOState):\n",
        "  result = []\n",
        "\n",
        "  for i in range(3):\n",
        "    for j in range(3):\n",
        "      if current_state.board[i][j] == XOState.empty:\n",
        "        # duboko kopiranje - kopiram cele liste a ne reference\n",
        "        next_state = copy.deepcopy(current_state)\n",
        "        next_state.play_move([i, j])\n",
        "        result.append(next_state)\n",
        "\n",
        "  return result"
      ],
      "metadata": {
        "id": "XOPvzf2utfhz"
      },
      "execution_count": null,
      "outputs": []
    },
    {
      "cell_type": "code",
      "source": [
        "# next_states = get_next_states(game)"
      ],
      "metadata": {
        "id": "9GN0OPImtwCL"
      },
      "execution_count": null,
      "outputs": []
    },
    {
      "cell_type": "code",
      "source": [
        "# print(next_states[2].board)"
      ],
      "metadata": {
        "colab": {
          "base_uri": "https://localhost:8080/"
        },
        "id": "i9h_lbYxupTu",
        "outputId": "47631922-9d1f-4b6d-d7c8-39836d773c6c"
      },
      "execution_count": null,
      "outputs": [
        {
          "output_type": "stream",
          "name": "stdout",
          "text": [
            "[[' ', ' ', 'X'], [' ', ' ', ' '], [' ', ' ', ' ']]\n"
          ]
        }
      ]
    },
    {
      "cell_type": "code",
      "source": [
        "# def Max(current_state):\n",
        "#   if end(current_state):\n",
        "#     return evaluate(current_state), current_state\n",
        "\n",
        "#   current_best_value = float('-inf')\n",
        "#   # potomci - moguci potezi protivnika\n",
        "#   best_move = None \n",
        "\n",
        "#   for next_state in get_next_states(current_state):\n",
        "#     opponent_best_move, _ = Min(next_state)\n",
        "\n",
        "#     if (opponent_best_move > current_best_value):\n",
        "#       current_best_value = opponent_best_move\n",
        "#       best_move = next_state \n",
        "\n",
        "#   return current_best_value, best_move"
      ],
      "metadata": {
        "id": "xI7ksN_buwBX"
      },
      "execution_count": null,
      "outputs": []
    },
    {
      "cell_type": "code",
      "source": [
        "from prompt_toolkit.application import current\n",
        "def Max(current_state, alpha = float('-inf'), beta = float('inf')):\n",
        "  if end(current_state):\n",
        "    return evaluate(current_state), current_state\n",
        "\n",
        "  current_best_value = float('-inf')\n",
        "  # potomci - moguci potezi protivnika\n",
        "  best_move = None \n",
        "\n",
        "  for next_state in get_next_states(current_state):\n",
        "    opponent_best_move, _ = Min(next_state, alpha, beta)\n",
        "\n",
        "    if (opponent_best_move > current_best_value):\n",
        "      current_best_value = opponent_best_move\n",
        "      best_move = next_state \n",
        "\n",
        "    if current_best_value >= beta:\n",
        "      return current_best_value, next_state\n",
        "\n",
        "    if current_best_value > alpha:\n",
        "      alpha = current_best_value\n",
        "\n",
        "  return current_best_value, best_move"
      ],
      "metadata": {
        "id": "pXIYhTan4Tqj"
      },
      "execution_count": null,
      "outputs": []
    },
    {
      "cell_type": "code",
      "source": [
        "# def Min(current_state):\n",
        "#   if end(current_state):\n",
        "#     return evaluate(current_state), current_state \n",
        "\n",
        "#   current_best_value = float('inf')\n",
        "#   best_move = None\n",
        "\n",
        "#   for next_state in get_next_states(current_state):\n",
        "#     opponent_best_move, _ = Max(next_state)\n",
        "\n",
        "#     # current_best_move_value ???\n",
        "#     if opponent_best_move < current_best_value:\n",
        "#       current_best_value = opponent_best_move\n",
        "#       best_move = next_state \n",
        "\n",
        "#   return current_best_value, best_move"
      ],
      "metadata": {
        "id": "qzEXcaZHuzO6"
      },
      "execution_count": null,
      "outputs": []
    },
    {
      "cell_type": "code",
      "source": [
        "def Min(current_state, alpha = float('-inf'), beta = float('inf')):\n",
        "  if end(current_state):\n",
        "    return evaluate(current_state), current_state \n",
        "\n",
        "  current_best_value = float('inf')\n",
        "  best_move = None\n",
        "\n",
        "  for next_state in get_next_states(current_state):\n",
        "    opponent_best_move, _ = Max(next_state, alpha, beta)\n",
        "\n",
        "    # current_best_move_value ???\n",
        "    if opponent_best_move < current_best_value:\n",
        "      current_best_value = opponent_best_move\n",
        "      best_move = next_state \n",
        "\n",
        "    if current_best_value <= alpha:\n",
        "      return current_best_value, next_state\n",
        "\n",
        "    if current_best_value < beta:\n",
        "      beta = current_best_value = beta\n",
        "\n",
        "  return current_best_value, best_move"
      ],
      "metadata": {
        "id": "oW_HisZJ4c1g"
      },
      "execution_count": null,
      "outputs": []
    },
    {
      "cell_type": "code",
      "source": [
        "def get_next_computer_move(game, func):\n",
        "  # ne treba mi vrednost vec samo state, koje mi je najbolje stanje\n",
        "  _, state = func(game)\n",
        "\n",
        "  return state.last_move"
      ],
      "metadata": {
        "id": "UEl9LmGf1Sia"
      },
      "execution_count": null,
      "outputs": []
    },
    {
      "cell_type": "code",
      "source": [
        "game = XOState()\n",
        "game.draw_board()\n",
        "\n",
        "while True:\n",
        "  next_move = read_next_move_from_stdin()\n",
        "  game.play_move(next_move)\n",
        "  game.draw_board()\n",
        "\n",
        "  if (get_winner(game) == 'X'):\n",
        "    print(\"X won!\")\n",
        "    break\n",
        "  if end(game):\n",
        "    print('Tie')\n",
        "    break\n",
        "\n",
        "  next_move = get_next_computer_move(game, Min)\n",
        "  game.play_move(next_move)\n",
        "  game.draw_board()\n",
        "\n",
        "  if (get_winner(game) == 'O'):\n",
        "    print('player O won!')\n",
        "    break"
      ],
      "metadata": {
        "colab": {
          "base_uri": "https://localhost:8080/",
          "height": 445
        },
        "id": "4p2j1zVQ0rRs",
        "outputId": "c4bd7fea-e637-43b4-bb1b-9de19c460e28"
      },
      "execution_count": null,
      "outputs": [
        {
          "output_type": "stream",
          "name": "stdout",
          "text": [
            "  |   |  \n",
            "  |   |  \n",
            "  |   |  \n",
            "2,2\n",
            "  |   |  \n",
            "  |   |  \n",
            "  |   | X\n"
          ]
        },
        {
          "output_type": "error",
          "ename": "AttributeError",
          "evalue": "ignored",
          "traceback": [
            "\u001b[0;31m---------------------------------------------------------------------------\u001b[0m",
            "\u001b[0;31mAttributeError\u001b[0m                            Traceback (most recent call last)",
            "\u001b[0;32m<ipython-input-16-a8a1f702c732>\u001b[0m in \u001b[0;36m<module>\u001b[0;34m\u001b[0m\n\u001b[1;32m     14\u001b[0m     \u001b[0;32mbreak\u001b[0m\u001b[0;34m\u001b[0m\u001b[0;34m\u001b[0m\u001b[0m\n\u001b[1;32m     15\u001b[0m \u001b[0;34m\u001b[0m\u001b[0m\n\u001b[0;32m---> 16\u001b[0;31m   \u001b[0mnext_move\u001b[0m \u001b[0;34m=\u001b[0m \u001b[0mget_next_computer_move\u001b[0m\u001b[0;34m(\u001b[0m\u001b[0mgame\u001b[0m\u001b[0;34m,\u001b[0m \u001b[0mMin\u001b[0m\u001b[0;34m)\u001b[0m\u001b[0;34m\u001b[0m\u001b[0;34m\u001b[0m\u001b[0m\n\u001b[0m\u001b[1;32m     17\u001b[0m   \u001b[0mgame\u001b[0m\u001b[0;34m.\u001b[0m\u001b[0mplay_move\u001b[0m\u001b[0;34m(\u001b[0m\u001b[0mnext_move\u001b[0m\u001b[0;34m)\u001b[0m\u001b[0;34m\u001b[0m\u001b[0;34m\u001b[0m\u001b[0m\n\u001b[1;32m     18\u001b[0m   \u001b[0mgame\u001b[0m\u001b[0;34m.\u001b[0m\u001b[0mdraw_board\u001b[0m\u001b[0;34m(\u001b[0m\u001b[0;34m)\u001b[0m\u001b[0;34m\u001b[0m\u001b[0;34m\u001b[0m\u001b[0m\n",
            "\u001b[0;32m<ipython-input-15-c9787a8bccde>\u001b[0m in \u001b[0;36mget_next_computer_move\u001b[0;34m(game, func)\u001b[0m\n\u001b[1;32m      3\u001b[0m   \u001b[0m_\u001b[0m\u001b[0;34m,\u001b[0m \u001b[0mstate\u001b[0m \u001b[0;34m=\u001b[0m \u001b[0mfunc\u001b[0m\u001b[0;34m(\u001b[0m\u001b[0mgame\u001b[0m\u001b[0;34m)\u001b[0m\u001b[0;34m\u001b[0m\u001b[0;34m\u001b[0m\u001b[0m\n\u001b[1;32m      4\u001b[0m \u001b[0;34m\u001b[0m\u001b[0m\n\u001b[0;32m----> 5\u001b[0;31m   \u001b[0;32mreturn\u001b[0m \u001b[0mstate\u001b[0m\u001b[0;34m.\u001b[0m\u001b[0mlast_move\u001b[0m\u001b[0;34m\u001b[0m\u001b[0;34m\u001b[0m\u001b[0m\n\u001b[0m",
            "\u001b[0;31mAttributeError\u001b[0m: 'NoneType' object has no attribute 'last_move'"
          ]
        }
      ]
    },
    {
      "cell_type": "code",
      "source": [
        "# alpha-beta odsecanje"
      ],
      "metadata": {
        "id": "AFIiVnA13Sgo"
      },
      "execution_count": null,
      "outputs": []
    }
  ]
}